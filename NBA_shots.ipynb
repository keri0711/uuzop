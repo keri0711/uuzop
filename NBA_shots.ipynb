{
 "cells": [
  {
   "cell_type": "markdown",
   "id": "60649960",
   "metadata": {},
   "source": [
    "# PREDIKCIJA POGODAKA U NBA-u"
   ]
  },
  {
   "cell_type": "markdown",
   "id": "56a3b739",
   "metadata": {},
   "source": [
    "Cilj ovog rada je replicirati rezultate dobivene u članku \"Predicting NBA Shots\" (http://cs229.stanford.edu/proj2017/final-reports/5132133.pdf) Brett-a Meehan-a sa Sveučilišta u Stanfordu. <br /> \n",
    "\n",
    "Autor članka razmatra problem predikcije uspješnosti pogotka u košarci na temelju podataka o pogodcima igrača u NBA-u. Implementirani su algoritmi logističke regresije, SVM-a, naivnog Bayesovog postupka, neuralnih mreža, slučajnih šuma te boosting-a. Pokazano je kako na ograničenom skupu informacija najbolju predikciju radi algoritam boosting."
   ]
  },
  {
   "cell_type": "markdown",
   "id": "f2652e96",
   "metadata": {},
   "source": [
    "Vrsta istraživanja provedena u navedenom članku prema:\n",
    "- **SVRSI** je primijenjeno istraživanje zato što je provedeno radi stvaranja praktičnog znanstvenog znanja, tj. znanja o predikciji uspješnosti pogotka u košarci. To znanje bi u praksi mogli koristiti treneri košarkaških timova.\n",
    "\n",
    "- **IZVORU INFORMACIJA** je sekundarno istraživanje zato što se podaci temelje na javno dostupnim podacima prikupljenima iz utakmica.\n",
    "\n",
    "- **VREMENU PROVEDBE** je studija presjeka ili sinkrono istraživanje zato što se koristi za promatranje pojava u određenom trenutku, tj. promatra se konkretni pogodak u košarkaškoj utakmici.\n",
    "\n",
    "- **NAČINU PRIKUPLJANJA PODATAKA** je dokumentarno istraživanje zato što se koristi pregled postojećih izvora informacija. Korišten je već postojeći dataset.\n",
    "\n",
    "- **VRSTI KORIŠTENIH PODATAKA** je kvantitativno istraživanje zato što su podaci prikupljeno kvantitativno i koriste se matematički, statistički i računalno potpomognuti alati za njihovo mjerenje.\n",
    "\n",
    "- **STUPNJU MANIPULACIJE VARIJABLAMA** je promatračko istraživanje zato što se analizira fenomen u njegovom prirodnom kontekstu. Istraživač ne intervenira izravno, već ograničava svoje sudjelovanje na mjerenje varijabli potrebnih za istraživanje.\n",
    "\n",
    "- **DUBINI ZAKLJUČKA** je istraživačko istraživanje zato što se istražuje nešto što još nije dobro shvaćeno ili dobro istraženo. \n",
    "\n",
    "- **VRSTI ZAKLJUČKA** je deduktivno istraživanje zato što se znanje generira iz općenitih podataka iz kojih želimo zaključiti nešto specifično. Općeniti podaci su podaci o nekoj utakmici, a specifični podaci do kojih želimo doći su podaci o uspješnosti košarkaških pogodaka."
   ]
  },
  {
   "cell_type": "markdown",
   "id": "0c8199fb",
   "metadata": {},
   "source": [
    "Metode prikupljanja podataka koji su korišteni u članku:\n",
    "- **DOKUMENTARNO ISTRAŽIVANJE:**\n",
    "    - korišten je pisani izvor podataka\n",
    "    - podaci su preuzeti s web stranice\n",
    "    - podaci su javno dostupni\n",
    "- **OPSERVACIJSKO ISTRAŽIVANJE:**\n",
    "    - utakmice su promatrane onako kako se uobičajeno događaju, a ne onako kako bi se dogodile u umjetno stvorenim uvjetima\n"
   ]
  },
  {
   "cell_type": "markdown",
   "id": "fdd5bc70",
   "metadata": {},
   "source": [
    "Podaci su prikupljeni prema pravilima istraživačke etike:\n",
    "- nitko nije pretrpio štetu kao rezultat sudjelovanja u istraživanju\n",
    "- podaci nisu namješteni, već su javno dostupni službeni podaci s utakmica"
   ]
  },
  {
   "cell_type": "markdown",
   "id": "4a906f58",
   "metadata": {},
   "source": [
    "# 1. Učitavanje podataka\n",
    "U radu je korišten dataset sa Kaggle-a koji sadrži podatke o pogodcima NBA igrača iz sezone 2014./2015. Prvi korak je importanje potrebnih biblioteka i učitavanje navedenih podataka iz lokalno pohranjene csv datoteke."
   ]
  },
  {
   "cell_type": "code",
   "execution_count": 1,
   "id": "c6f224f5",
   "metadata": {},
   "outputs": [],
   "source": [
    "import numpy as np\n",
    "import pandas as pd\n",
    "import seaborn as sn\n",
    "import matplotlib.pyplot as plt\n",
    "from sklearn import preprocessing\n",
    "from xgboost import XGBClassifier\n",
    "from sklearn.svm import LinearSVC\n",
    "from sklearn.metrics import accuracy_score\n",
    "from sklearn.metrics import confusion_matrix\n",
    "from sklearn.naive_bayes import MultinomialNB\n",
    "from sklearn.linear_model import SGDClassifier\n",
    "from sklearn.neural_network import MLPClassifier\n",
    "from sklearn.ensemble import RandomForestClassifier\n",
    "from sklearn.model_selection import train_test_split"
   ]
  },
  {
   "cell_type": "code",
   "execution_count": 2,
   "id": "ba16f9bf",
   "metadata": {},
   "outputs": [],
   "source": [
    "dataset = pd.read_csv('shot_logs.csv')"
   ]
  },
  {
   "cell_type": "markdown",
   "id": "410e257f",
   "metadata": {},
   "source": [
    "# 2. Pregled podataka"
   ]
  },
  {
   "cell_type": "markdown",
   "id": "cd426975",
   "metadata": {},
   "source": [
    "Dataset se sastoji od 128 069 redaka (n-torki) i 21 stupca (značajki):"
   ]
  },
  {
   "cell_type": "code",
   "execution_count": 3,
   "id": "991090b0",
   "metadata": {},
   "outputs": [
    {
     "data": {
      "text/plain": [
       "(128069, 21)"
      ]
     },
     "execution_count": 3,
     "metadata": {},
     "output_type": "execute_result"
    }
   ],
   "source": [
    "dataset.shape"
   ]
  },
  {
   "cell_type": "markdown",
   "id": "73d0c3c7",
   "metadata": {},
   "source": [
    "Ispisat ćemo nekoliko redaka kako bi vidjeli koje značajke se nalaze u datasetu i primjere njihovih vrijednosti:"
   ]
  },
  {
   "cell_type": "code",
   "execution_count": 4,
   "id": "259d6351",
   "metadata": {},
   "outputs": [
    {
     "data": {
      "text/html": [
       "<div>\n",
       "<style scoped>\n",
       "    .dataframe tbody tr th:only-of-type {\n",
       "        vertical-align: middle;\n",
       "    }\n",
       "\n",
       "    .dataframe tbody tr th {\n",
       "        vertical-align: top;\n",
       "    }\n",
       "\n",
       "    .dataframe thead th {\n",
       "        text-align: right;\n",
       "    }\n",
       "</style>\n",
       "<table border=\"1\" class=\"dataframe\">\n",
       "  <thead>\n",
       "    <tr style=\"text-align: right;\">\n",
       "      <th></th>\n",
       "      <th>GAME_ID</th>\n",
       "      <th>MATCHUP</th>\n",
       "      <th>LOCATION</th>\n",
       "      <th>W</th>\n",
       "      <th>FINAL_MARGIN</th>\n",
       "      <th>SHOT_NUMBER</th>\n",
       "      <th>PERIOD</th>\n",
       "      <th>GAME_CLOCK</th>\n",
       "      <th>SHOT_CLOCK</th>\n",
       "      <th>DRIBBLES</th>\n",
       "      <th>TOUCH_TIME</th>\n",
       "      <th>SHOT_DIST</th>\n",
       "      <th>PTS_TYPE</th>\n",
       "      <th>SHOT_RESULT</th>\n",
       "      <th>CLOSEST_DEFENDER</th>\n",
       "      <th>CLOSEST_DEFENDER_PLAYER_ID</th>\n",
       "      <th>CLOSE_DEF_DIST</th>\n",
       "      <th>FGM</th>\n",
       "      <th>PTS</th>\n",
       "      <th>player_name</th>\n",
       "      <th>player_id</th>\n",
       "    </tr>\n",
       "  </thead>\n",
       "  <tbody>\n",
       "    <tr>\n",
       "      <th>0</th>\n",
       "      <td>21400899</td>\n",
       "      <td>MAR 04, 2015 - CHA @ BKN</td>\n",
       "      <td>A</td>\n",
       "      <td>W</td>\n",
       "      <td>24</td>\n",
       "      <td>1</td>\n",
       "      <td>1</td>\n",
       "      <td>1:09</td>\n",
       "      <td>10.8</td>\n",
       "      <td>2</td>\n",
       "      <td>1.9</td>\n",
       "      <td>7.7</td>\n",
       "      <td>2</td>\n",
       "      <td>made</td>\n",
       "      <td>Anderson, Alan</td>\n",
       "      <td>101187</td>\n",
       "      <td>1.3</td>\n",
       "      <td>1</td>\n",
       "      <td>2</td>\n",
       "      <td>brian roberts</td>\n",
       "      <td>203148</td>\n",
       "    </tr>\n",
       "    <tr>\n",
       "      <th>1</th>\n",
       "      <td>21400899</td>\n",
       "      <td>MAR 04, 2015 - CHA @ BKN</td>\n",
       "      <td>A</td>\n",
       "      <td>W</td>\n",
       "      <td>24</td>\n",
       "      <td>2</td>\n",
       "      <td>1</td>\n",
       "      <td>0:14</td>\n",
       "      <td>3.4</td>\n",
       "      <td>0</td>\n",
       "      <td>0.8</td>\n",
       "      <td>28.2</td>\n",
       "      <td>3</td>\n",
       "      <td>missed</td>\n",
       "      <td>Bogdanovic, Bojan</td>\n",
       "      <td>202711</td>\n",
       "      <td>6.1</td>\n",
       "      <td>0</td>\n",
       "      <td>0</td>\n",
       "      <td>brian roberts</td>\n",
       "      <td>203148</td>\n",
       "    </tr>\n",
       "    <tr>\n",
       "      <th>2</th>\n",
       "      <td>21400899</td>\n",
       "      <td>MAR 04, 2015 - CHA @ BKN</td>\n",
       "      <td>A</td>\n",
       "      <td>W</td>\n",
       "      <td>24</td>\n",
       "      <td>3</td>\n",
       "      <td>1</td>\n",
       "      <td>0:00</td>\n",
       "      <td>NaN</td>\n",
       "      <td>3</td>\n",
       "      <td>2.7</td>\n",
       "      <td>10.1</td>\n",
       "      <td>2</td>\n",
       "      <td>missed</td>\n",
       "      <td>Bogdanovic, Bojan</td>\n",
       "      <td>202711</td>\n",
       "      <td>0.9</td>\n",
       "      <td>0</td>\n",
       "      <td>0</td>\n",
       "      <td>brian roberts</td>\n",
       "      <td>203148</td>\n",
       "    </tr>\n",
       "    <tr>\n",
       "      <th>3</th>\n",
       "      <td>21400899</td>\n",
       "      <td>MAR 04, 2015 - CHA @ BKN</td>\n",
       "      <td>A</td>\n",
       "      <td>W</td>\n",
       "      <td>24</td>\n",
       "      <td>4</td>\n",
       "      <td>2</td>\n",
       "      <td>11:47</td>\n",
       "      <td>10.3</td>\n",
       "      <td>2</td>\n",
       "      <td>1.9</td>\n",
       "      <td>17.2</td>\n",
       "      <td>2</td>\n",
       "      <td>missed</td>\n",
       "      <td>Brown, Markel</td>\n",
       "      <td>203900</td>\n",
       "      <td>3.4</td>\n",
       "      <td>0</td>\n",
       "      <td>0</td>\n",
       "      <td>brian roberts</td>\n",
       "      <td>203148</td>\n",
       "    </tr>\n",
       "    <tr>\n",
       "      <th>4</th>\n",
       "      <td>21400899</td>\n",
       "      <td>MAR 04, 2015 - CHA @ BKN</td>\n",
       "      <td>A</td>\n",
       "      <td>W</td>\n",
       "      <td>24</td>\n",
       "      <td>5</td>\n",
       "      <td>2</td>\n",
       "      <td>10:34</td>\n",
       "      <td>10.9</td>\n",
       "      <td>2</td>\n",
       "      <td>2.7</td>\n",
       "      <td>3.7</td>\n",
       "      <td>2</td>\n",
       "      <td>missed</td>\n",
       "      <td>Young, Thaddeus</td>\n",
       "      <td>201152</td>\n",
       "      <td>1.1</td>\n",
       "      <td>0</td>\n",
       "      <td>0</td>\n",
       "      <td>brian roberts</td>\n",
       "      <td>203148</td>\n",
       "    </tr>\n",
       "  </tbody>\n",
       "</table>\n",
       "</div>"
      ],
      "text/plain": [
       "    GAME_ID                   MATCHUP LOCATION  W  FINAL_MARGIN  SHOT_NUMBER  \\\n",
       "0  21400899  MAR 04, 2015 - CHA @ BKN        A  W            24            1   \n",
       "1  21400899  MAR 04, 2015 - CHA @ BKN        A  W            24            2   \n",
       "2  21400899  MAR 04, 2015 - CHA @ BKN        A  W            24            3   \n",
       "3  21400899  MAR 04, 2015 - CHA @ BKN        A  W            24            4   \n",
       "4  21400899  MAR 04, 2015 - CHA @ BKN        A  W            24            5   \n",
       "\n",
       "   PERIOD GAME_CLOCK  SHOT_CLOCK  DRIBBLES  TOUCH_TIME  SHOT_DIST  PTS_TYPE  \\\n",
       "0       1       1:09        10.8         2         1.9        7.7         2   \n",
       "1       1       0:14         3.4         0         0.8       28.2         3   \n",
       "2       1       0:00         NaN         3         2.7       10.1         2   \n",
       "3       2      11:47        10.3         2         1.9       17.2         2   \n",
       "4       2      10:34        10.9         2         2.7        3.7         2   \n",
       "\n",
       "  SHOT_RESULT   CLOSEST_DEFENDER  CLOSEST_DEFENDER_PLAYER_ID  CLOSE_DEF_DIST  \\\n",
       "0        made     Anderson, Alan                      101187             1.3   \n",
       "1      missed  Bogdanovic, Bojan                      202711             6.1   \n",
       "2      missed  Bogdanovic, Bojan                      202711             0.9   \n",
       "3      missed      Brown, Markel                      203900             3.4   \n",
       "4      missed    Young, Thaddeus                      201152             1.1   \n",
       "\n",
       "   FGM  PTS    player_name  player_id  \n",
       "0    1    2  brian roberts     203148  \n",
       "1    0    0  brian roberts     203148  \n",
       "2    0    0  brian roberts     203148  \n",
       "3    0    0  brian roberts     203148  \n",
       "4    0    0  brian roberts     203148  "
      ]
     },
     "execution_count": 4,
     "metadata": {},
     "output_type": "execute_result"
    }
   ],
   "source": [
    "pd.set_option('display.max_columns', None)\n",
    "pd.set_option('max_colwidth', None)\n",
    "dataset.head()"
   ]
  },
  {
   "cell_type": "markdown",
   "id": "e0ade249",
   "metadata": {},
   "source": [
    "## 2.1 Značajke:"
   ]
  },
  {
   "cell_type": "code",
   "execution_count": 5,
   "id": "cffa7824",
   "metadata": {},
   "outputs": [
    {
     "name": "stdout",
     "output_type": "stream",
     "text": [
      "GAME_ID\n",
      "MATCHUP\n",
      "LOCATION\n",
      "W\n",
      "FINAL_MARGIN\n",
      "SHOT_NUMBER\n",
      "PERIOD\n",
      "GAME_CLOCK\n",
      "SHOT_CLOCK\n",
      "DRIBBLES\n",
      "TOUCH_TIME\n",
      "SHOT_DIST\n",
      "PTS_TYPE\n",
      "SHOT_RESULT\n",
      "CLOSEST_DEFENDER\n",
      "CLOSEST_DEFENDER_PLAYER_ID\n",
      "CLOSE_DEF_DIST\n",
      "FGM\n",
      "PTS\n",
      "player_name\n",
      "player_id\n"
     ]
    }
   ],
   "source": [
    "attributes = dataset.columns.values\n",
    "\n",
    "for one in attributes:\n",
    "    print(one)"
   ]
  },
  {
   "cell_type": "markdown",
   "id": "c92a1ba8",
   "metadata": {},
   "source": [
    "Pojašnjenja značajki:\n",
    " - GAME_ID: jedinstveni identifikator utakmice\n",
    " - MATCHUP: vrijeme utakmice i oznaka koji tim igra kod kojeg tima\n",
    " - LOCATION: A (away) ili H (home)\n",
    " - W: W (win) ili L (loss)\n",
    " - FINAL_MARGIN: za koliko bodova je pobijedio ili izgubio tim igrača  \n",
    " - SHOT_NUMBER: redni broj pogotka igrača u utakmici\n",
    " - PERIOD: četvrtina utakmice\n",
    " - GAME_CLOCK: vrijeme pucanja u koš (unutar tekuće četvrtine)\n",
    " - SHOT_CLOCK: vrijeme pucanja u koš (unutar 24 sekunde napada)\n",
    " - DRIBBLES: broj driblanja prije pucanja u koš\n",
    " - TOUCH_TIME: vrijeme držanja lopte prije pucanja u koš\n",
    " - SHOT_DIST: udaljenost s koje se igrač pucao u koš\n",
    " - PTS_TYPE: vrsta pogotka (dvica ili trica)\n",
    " - SHOT_RESULT: made ili missed\n",
    " - CLOSEST_DEFENDER: najbliži igrač protivničkog tima\n",
    " - CLOSEST_DEFENDER_PLAYER_ID: jedinstveni identifikator najbližeg igrača protivničkog tima\n",
    " - CLOSE_DEF_DIST: udaljenost najbližeg igrača protivničkog tima\n",
    " - FGM: 0 ili 1 (je li postignut pogodak)\n",
    " - PTS: 0, 2 ili 3 (broj bodova za pogodak)\n",
    " - player_name: ime igrača koji je pucao u koš\n",
    " - player_id: jedinstveni identifikator igrača koji je pucao u koš"
   ]
  },
  {
   "cell_type": "code",
   "execution_count": 6,
   "id": "d6b516b8",
   "metadata": {},
   "outputs": [
    {
     "data": {
      "text/html": [
       "<div>\n",
       "<style scoped>\n",
       "    .dataframe tbody tr th:only-of-type {\n",
       "        vertical-align: middle;\n",
       "    }\n",
       "\n",
       "    .dataframe tbody tr th {\n",
       "        vertical-align: top;\n",
       "    }\n",
       "\n",
       "    .dataframe thead th {\n",
       "        text-align: right;\n",
       "    }\n",
       "</style>\n",
       "<table border=\"1\" class=\"dataframe\">\n",
       "  <thead>\n",
       "    <tr style=\"text-align: right;\">\n",
       "      <th></th>\n",
       "      <th>GAME_ID</th>\n",
       "      <th>FINAL_MARGIN</th>\n",
       "      <th>SHOT_NUMBER</th>\n",
       "      <th>PERIOD</th>\n",
       "      <th>SHOT_CLOCK</th>\n",
       "      <th>DRIBBLES</th>\n",
       "      <th>TOUCH_TIME</th>\n",
       "      <th>SHOT_DIST</th>\n",
       "      <th>PTS_TYPE</th>\n",
       "      <th>CLOSEST_DEFENDER_PLAYER_ID</th>\n",
       "      <th>CLOSE_DEF_DIST</th>\n",
       "      <th>FGM</th>\n",
       "      <th>PTS</th>\n",
       "      <th>player_id</th>\n",
       "    </tr>\n",
       "  </thead>\n",
       "  <tbody>\n",
       "    <tr>\n",
       "      <th>count</th>\n",
       "      <td>1.280690e+05</td>\n",
       "      <td>128069.000000</td>\n",
       "      <td>128069.000000</td>\n",
       "      <td>128069.000000</td>\n",
       "      <td>122502.000000</td>\n",
       "      <td>128069.000000</td>\n",
       "      <td>128069.000000</td>\n",
       "      <td>128069.000000</td>\n",
       "      <td>128069.000000</td>\n",
       "      <td>128069.000000</td>\n",
       "      <td>128069.000000</td>\n",
       "      <td>128069.000000</td>\n",
       "      <td>128069.000000</td>\n",
       "      <td>128069.000000</td>\n",
       "    </tr>\n",
       "    <tr>\n",
       "      <th>mean</th>\n",
       "      <td>2.140045e+07</td>\n",
       "      <td>0.208723</td>\n",
       "      <td>6.506899</td>\n",
       "      <td>2.469427</td>\n",
       "      <td>12.453344</td>\n",
       "      <td>2.023355</td>\n",
       "      <td>2.765901</td>\n",
       "      <td>13.571504</td>\n",
       "      <td>2.264670</td>\n",
       "      <td>159038.487284</td>\n",
       "      <td>4.123015</td>\n",
       "      <td>0.452139</td>\n",
       "      <td>0.997314</td>\n",
       "      <td>157238.251247</td>\n",
       "    </tr>\n",
       "    <tr>\n",
       "      <th>std</th>\n",
       "      <td>2.578773e+02</td>\n",
       "      <td>13.233267</td>\n",
       "      <td>4.713260</td>\n",
       "      <td>1.139919</td>\n",
       "      <td>5.763265</td>\n",
       "      <td>3.477760</td>\n",
       "      <td>3.043682</td>\n",
       "      <td>8.888964</td>\n",
       "      <td>0.441159</td>\n",
       "      <td>78791.172947</td>\n",
       "      <td>2.756446</td>\n",
       "      <td>0.497706</td>\n",
       "      <td>1.130978</td>\n",
       "      <td>79362.389336</td>\n",
       "    </tr>\n",
       "    <tr>\n",
       "      <th>min</th>\n",
       "      <td>2.140000e+07</td>\n",
       "      <td>-53.000000</td>\n",
       "      <td>1.000000</td>\n",
       "      <td>1.000000</td>\n",
       "      <td>0.000000</td>\n",
       "      <td>0.000000</td>\n",
       "      <td>-163.600000</td>\n",
       "      <td>0.000000</td>\n",
       "      <td>2.000000</td>\n",
       "      <td>708.000000</td>\n",
       "      <td>0.000000</td>\n",
       "      <td>0.000000</td>\n",
       "      <td>0.000000</td>\n",
       "      <td>708.000000</td>\n",
       "    </tr>\n",
       "    <tr>\n",
       "      <th>25%</th>\n",
       "      <td>2.140023e+07</td>\n",
       "      <td>-8.000000</td>\n",
       "      <td>3.000000</td>\n",
       "      <td>1.000000</td>\n",
       "      <td>8.200000</td>\n",
       "      <td>0.000000</td>\n",
       "      <td>0.900000</td>\n",
       "      <td>4.700000</td>\n",
       "      <td>2.000000</td>\n",
       "      <td>101249.000000</td>\n",
       "      <td>2.300000</td>\n",
       "      <td>0.000000</td>\n",
       "      <td>0.000000</td>\n",
       "      <td>101162.000000</td>\n",
       "    </tr>\n",
       "    <tr>\n",
       "      <th>50%</th>\n",
       "      <td>2.140045e+07</td>\n",
       "      <td>1.000000</td>\n",
       "      <td>5.000000</td>\n",
       "      <td>2.000000</td>\n",
       "      <td>12.300000</td>\n",
       "      <td>1.000000</td>\n",
       "      <td>1.600000</td>\n",
       "      <td>13.700000</td>\n",
       "      <td>2.000000</td>\n",
       "      <td>201949.000000</td>\n",
       "      <td>3.700000</td>\n",
       "      <td>0.000000</td>\n",
       "      <td>0.000000</td>\n",
       "      <td>201939.000000</td>\n",
       "    </tr>\n",
       "    <tr>\n",
       "      <th>75%</th>\n",
       "      <td>2.140067e+07</td>\n",
       "      <td>9.000000</td>\n",
       "      <td>9.000000</td>\n",
       "      <td>3.000000</td>\n",
       "      <td>16.675000</td>\n",
       "      <td>2.000000</td>\n",
       "      <td>3.700000</td>\n",
       "      <td>22.500000</td>\n",
       "      <td>3.000000</td>\n",
       "      <td>203079.000000</td>\n",
       "      <td>5.300000</td>\n",
       "      <td>1.000000</td>\n",
       "      <td>2.000000</td>\n",
       "      <td>202704.000000</td>\n",
       "    </tr>\n",
       "    <tr>\n",
       "      <th>max</th>\n",
       "      <td>2.140091e+07</td>\n",
       "      <td>53.000000</td>\n",
       "      <td>38.000000</td>\n",
       "      <td>7.000000</td>\n",
       "      <td>24.000000</td>\n",
       "      <td>32.000000</td>\n",
       "      <td>24.900000</td>\n",
       "      <td>47.200000</td>\n",
       "      <td>3.000000</td>\n",
       "      <td>530027.000000</td>\n",
       "      <td>53.200000</td>\n",
       "      <td>1.000000</td>\n",
       "      <td>3.000000</td>\n",
       "      <td>204060.000000</td>\n",
       "    </tr>\n",
       "  </tbody>\n",
       "</table>\n",
       "</div>"
      ],
      "text/plain": [
       "            GAME_ID   FINAL_MARGIN    SHOT_NUMBER         PERIOD  \\\n",
       "count  1.280690e+05  128069.000000  128069.000000  128069.000000   \n",
       "mean   2.140045e+07       0.208723       6.506899       2.469427   \n",
       "std    2.578773e+02      13.233267       4.713260       1.139919   \n",
       "min    2.140000e+07     -53.000000       1.000000       1.000000   \n",
       "25%    2.140023e+07      -8.000000       3.000000       1.000000   \n",
       "50%    2.140045e+07       1.000000       5.000000       2.000000   \n",
       "75%    2.140067e+07       9.000000       9.000000       3.000000   \n",
       "max    2.140091e+07      53.000000      38.000000       7.000000   \n",
       "\n",
       "          SHOT_CLOCK       DRIBBLES     TOUCH_TIME      SHOT_DIST  \\\n",
       "count  122502.000000  128069.000000  128069.000000  128069.000000   \n",
       "mean       12.453344       2.023355       2.765901      13.571504   \n",
       "std         5.763265       3.477760       3.043682       8.888964   \n",
       "min         0.000000       0.000000    -163.600000       0.000000   \n",
       "25%         8.200000       0.000000       0.900000       4.700000   \n",
       "50%        12.300000       1.000000       1.600000      13.700000   \n",
       "75%        16.675000       2.000000       3.700000      22.500000   \n",
       "max        24.000000      32.000000      24.900000      47.200000   \n",
       "\n",
       "            PTS_TYPE  CLOSEST_DEFENDER_PLAYER_ID  CLOSE_DEF_DIST  \\\n",
       "count  128069.000000               128069.000000   128069.000000   \n",
       "mean        2.264670               159038.487284        4.123015   \n",
       "std         0.441159                78791.172947        2.756446   \n",
       "min         2.000000                  708.000000        0.000000   \n",
       "25%         2.000000               101249.000000        2.300000   \n",
       "50%         2.000000               201949.000000        3.700000   \n",
       "75%         3.000000               203079.000000        5.300000   \n",
       "max         3.000000               530027.000000       53.200000   \n",
       "\n",
       "                 FGM            PTS      player_id  \n",
       "count  128069.000000  128069.000000  128069.000000  \n",
       "mean        0.452139       0.997314  157238.251247  \n",
       "std         0.497706       1.130978   79362.389336  \n",
       "min         0.000000       0.000000     708.000000  \n",
       "25%         0.000000       0.000000  101162.000000  \n",
       "50%         0.000000       0.000000  201939.000000  \n",
       "75%         1.000000       2.000000  202704.000000  \n",
       "max         1.000000       3.000000  204060.000000  "
      ]
     },
     "execution_count": 6,
     "metadata": {},
     "output_type": "execute_result"
    }
   ],
   "source": [
    "dataset.describe()"
   ]
  },
  {
   "cell_type": "markdown",
   "id": "4bad3097",
   "metadata": {},
   "source": [
    "## 2.2 Monotoni atributi\n",
    "Monotoni atributi su atributi čija vrijednost jednoliko raste. Provjerimo postoje li takvi atributi u dataset-u. Funkcija nunique broji jedinstvene vrijednosti po stupcima. Atributi s velikim brojem zapisa koji imaju jedinstvenu vrijednost su kandidati za monotoni atribut."
   ]
  },
  {
   "cell_type": "code",
   "execution_count": 7,
   "id": "4d9b2feb",
   "metadata": {},
   "outputs": [
    {
     "data": {
      "text/plain": [
       "GAME_ID                        904\n",
       "MATCHUP                       1808\n",
       "LOCATION                         2\n",
       "W                                2\n",
       "FINAL_MARGIN                    88\n",
       "SHOT_NUMBER                     38\n",
       "PERIOD                           7\n",
       "GAME_CLOCK                     719\n",
       "SHOT_CLOCK                     241\n",
       "DRIBBLES                        33\n",
       "TOUCH_TIME                     313\n",
       "SHOT_DIST                      448\n",
       "PTS_TYPE                         2\n",
       "SHOT_RESULT                      2\n",
       "CLOSEST_DEFENDER               473\n",
       "CLOSEST_DEFENDER_PLAYER_ID     474\n",
       "CLOSE_DEF_DIST                 299\n",
       "FGM                              2\n",
       "PTS                              3\n",
       "player_name                    281\n",
       "player_id                      281\n",
       "dtype: int64"
      ]
     },
     "execution_count": 7,
     "metadata": {},
     "output_type": "execute_result"
    }
   ],
   "source": [
    "dataset.nunique()"
   ]
  },
  {
   "cell_type": "markdown",
   "id": "2652ff99",
   "metadata": {},
   "source": [
    "Ne postoje atributi koji za svaki zapis imaju jedinstvenu vrijednost. Kada pogledamo atribute s najvećim brojem zapisa koji imaju jedinstvenu vrijednost, na temelju njihovog značenja zaključujemo kako to nisu monotoni atributi."
   ]
  },
  {
   "cell_type": "markdown",
   "id": "2c4cacef",
   "metadata": {},
   "source": [
    "## 2.3 Podaci koji nedostaju\n",
    "Provjerimo koliko je podataka čija vrijednost nije zabilježena:"
   ]
  },
  {
   "cell_type": "code",
   "execution_count": 8,
   "id": "b90fb7ac",
   "metadata": {},
   "outputs": [
    {
     "data": {
      "text/plain": [
       "GAME_ID                          0\n",
       "MATCHUP                          0\n",
       "LOCATION                         0\n",
       "W                                0\n",
       "FINAL_MARGIN                     0\n",
       "SHOT_NUMBER                      0\n",
       "PERIOD                           0\n",
       "GAME_CLOCK                       0\n",
       "SHOT_CLOCK                    5567\n",
       "DRIBBLES                         0\n",
       "TOUCH_TIME                       0\n",
       "SHOT_DIST                        0\n",
       "PTS_TYPE                         0\n",
       "SHOT_RESULT                      0\n",
       "CLOSEST_DEFENDER                 0\n",
       "CLOSEST_DEFENDER_PLAYER_ID       0\n",
       "CLOSE_DEF_DIST                   0\n",
       "FGM                              0\n",
       "PTS                              0\n",
       "player_name                      0\n",
       "player_id                        0\n",
       "dtype: int64"
      ]
     },
     "execution_count": 8,
     "metadata": {},
     "output_type": "execute_result"
    }
   ],
   "source": [
    "dataset.isna().sum()"
   ]
  },
  {
   "cell_type": "markdown",
   "id": "068ad9c6",
   "metadata": {},
   "source": [
    "Opcije za rješavanje problema vrijednosti koje nedostaju su:\n",
    " - zamijeniti srednjom vrijednošću\n",
    " - u potpunosti izbaciti te zapise iz skupa podataka\n",
    " - u potpunosti izbaciti te značajke iz skupa podataka\n",
    " - pronalazak točnih vrijednosti iz drugih izvora podataka\n",
    " - ..."
   ]
  },
  {
   "cell_type": "markdown",
   "id": "ae3d0e32",
   "metadata": {},
   "source": [
    "U ovom slučaju izbacit ćemo te zapise iz skupa podataka."
   ]
  },
  {
   "cell_type": "code",
   "execution_count": 9,
   "id": "35b5b83b",
   "metadata": {},
   "outputs": [],
   "source": [
    "dataset = dataset.loc[dataset.SHOT_CLOCK.notnull(), :]"
   ]
  },
  {
   "cell_type": "code",
   "execution_count": 10,
   "id": "3668bfe1",
   "metadata": {},
   "outputs": [
    {
     "data": {
      "text/plain": [
       "GAME_ID                       0\n",
       "MATCHUP                       0\n",
       "LOCATION                      0\n",
       "W                             0\n",
       "FINAL_MARGIN                  0\n",
       "SHOT_NUMBER                   0\n",
       "PERIOD                        0\n",
       "GAME_CLOCK                    0\n",
       "SHOT_CLOCK                    0\n",
       "DRIBBLES                      0\n",
       "TOUCH_TIME                    0\n",
       "SHOT_DIST                     0\n",
       "PTS_TYPE                      0\n",
       "SHOT_RESULT                   0\n",
       "CLOSEST_DEFENDER              0\n",
       "CLOSEST_DEFENDER_PLAYER_ID    0\n",
       "CLOSE_DEF_DIST                0\n",
       "FGM                           0\n",
       "PTS                           0\n",
       "player_name                   0\n",
       "player_id                     0\n",
       "dtype: int64"
      ]
     },
     "execution_count": 10,
     "metadata": {},
     "output_type": "execute_result"
    }
   ],
   "source": [
    "dataset.isna().sum()"
   ]
  },
  {
   "cell_type": "markdown",
   "id": "601ea114",
   "metadata": {},
   "source": [
    "## 2.4 Stršeći podaci"
   ]
  },
  {
   "cell_type": "code",
   "execution_count": 11,
   "id": "5a3eb37d",
   "metadata": {},
   "outputs": [
    {
     "data": {
      "text/html": [
       "<div>\n",
       "<style scoped>\n",
       "    .dataframe tbody tr th:only-of-type {\n",
       "        vertical-align: middle;\n",
       "    }\n",
       "\n",
       "    .dataframe tbody tr th {\n",
       "        vertical-align: top;\n",
       "    }\n",
       "\n",
       "    .dataframe thead th {\n",
       "        text-align: right;\n",
       "    }\n",
       "</style>\n",
       "<table border=\"1\" class=\"dataframe\">\n",
       "  <thead>\n",
       "    <tr style=\"text-align: right;\">\n",
       "      <th></th>\n",
       "      <th>GAME_ID</th>\n",
       "      <th>FINAL_MARGIN</th>\n",
       "      <th>SHOT_NUMBER</th>\n",
       "      <th>PERIOD</th>\n",
       "      <th>SHOT_CLOCK</th>\n",
       "      <th>DRIBBLES</th>\n",
       "      <th>TOUCH_TIME</th>\n",
       "      <th>SHOT_DIST</th>\n",
       "      <th>PTS_TYPE</th>\n",
       "      <th>CLOSEST_DEFENDER_PLAYER_ID</th>\n",
       "      <th>CLOSE_DEF_DIST</th>\n",
       "      <th>FGM</th>\n",
       "      <th>PTS</th>\n",
       "      <th>player_id</th>\n",
       "    </tr>\n",
       "  </thead>\n",
       "  <tbody>\n",
       "    <tr>\n",
       "      <th>count</th>\n",
       "      <td>1.225020e+05</td>\n",
       "      <td>122502.000000</td>\n",
       "      <td>122502.000000</td>\n",
       "      <td>122502.000000</td>\n",
       "      <td>122502.000000</td>\n",
       "      <td>122502.000000</td>\n",
       "      <td>122502.000000</td>\n",
       "      <td>122502.000000</td>\n",
       "      <td>122502.000000</td>\n",
       "      <td>122502.000000</td>\n",
       "      <td>122502.000000</td>\n",
       "      <td>122502.000000</td>\n",
       "      <td>122502.000000</td>\n",
       "      <td>122502.000000</td>\n",
       "    </tr>\n",
       "    <tr>\n",
       "      <th>mean</th>\n",
       "      <td>2.140045e+07</td>\n",
       "      <td>0.252396</td>\n",
       "      <td>6.476164</td>\n",
       "      <td>2.471454</td>\n",
       "      <td>12.453344</td>\n",
       "      <td>1.989233</td>\n",
       "      <td>2.748202</td>\n",
       "      <td>13.443758</td>\n",
       "      <td>2.258363</td>\n",
       "      <td>159120.427977</td>\n",
       "      <td>4.121706</td>\n",
       "      <td>0.456156</td>\n",
       "      <td>1.005469</td>\n",
       "      <td>157334.912965</td>\n",
       "    </tr>\n",
       "    <tr>\n",
       "      <th>std</th>\n",
       "      <td>2.578228e+02</td>\n",
       "      <td>13.311418</td>\n",
       "      <td>4.681245</td>\n",
       "      <td>1.137898</td>\n",
       "      <td>5.763265</td>\n",
       "      <td>3.411188</td>\n",
       "      <td>2.957237</td>\n",
       "      <td>8.777113</td>\n",
       "      <td>0.437736</td>\n",
       "      <td>78689.677900</td>\n",
       "      <td>2.751587</td>\n",
       "      <td>0.498076</td>\n",
       "      <td>1.131129</td>\n",
       "      <td>79304.953702</td>\n",
       "    </tr>\n",
       "    <tr>\n",
       "      <th>min</th>\n",
       "      <td>2.140000e+07</td>\n",
       "      <td>-53.000000</td>\n",
       "      <td>1.000000</td>\n",
       "      <td>1.000000</td>\n",
       "      <td>0.000000</td>\n",
       "      <td>0.000000</td>\n",
       "      <td>-100.500000</td>\n",
       "      <td>0.000000</td>\n",
       "      <td>2.000000</td>\n",
       "      <td>708.000000</td>\n",
       "      <td>0.000000</td>\n",
       "      <td>0.000000</td>\n",
       "      <td>0.000000</td>\n",
       "      <td>708.000000</td>\n",
       "    </tr>\n",
       "    <tr>\n",
       "      <th>25%</th>\n",
       "      <td>2.140023e+07</td>\n",
       "      <td>-8.000000</td>\n",
       "      <td>3.000000</td>\n",
       "      <td>1.000000</td>\n",
       "      <td>8.200000</td>\n",
       "      <td>0.000000</td>\n",
       "      <td>0.900000</td>\n",
       "      <td>4.700000</td>\n",
       "      <td>2.000000</td>\n",
       "      <td>200745.000000</td>\n",
       "      <td>2.300000</td>\n",
       "      <td>0.000000</td>\n",
       "      <td>0.000000</td>\n",
       "      <td>101162.000000</td>\n",
       "    </tr>\n",
       "    <tr>\n",
       "      <th>50%</th>\n",
       "      <td>2.140045e+07</td>\n",
       "      <td>1.000000</td>\n",
       "      <td>5.000000</td>\n",
       "      <td>2.000000</td>\n",
       "      <td>12.300000</td>\n",
       "      <td>1.000000</td>\n",
       "      <td>1.600000</td>\n",
       "      <td>13.400000</td>\n",
       "      <td>2.000000</td>\n",
       "      <td>201949.000000</td>\n",
       "      <td>3.700000</td>\n",
       "      <td>0.000000</td>\n",
       "      <td>0.000000</td>\n",
       "      <td>201939.000000</td>\n",
       "    </tr>\n",
       "    <tr>\n",
       "      <th>75%</th>\n",
       "      <td>2.140067e+07</td>\n",
       "      <td>9.000000</td>\n",
       "      <td>9.000000</td>\n",
       "      <td>3.000000</td>\n",
       "      <td>16.675000</td>\n",
       "      <td>2.000000</td>\n",
       "      <td>3.700000</td>\n",
       "      <td>22.400000</td>\n",
       "      <td>3.000000</td>\n",
       "      <td>203079.000000</td>\n",
       "      <td>5.300000</td>\n",
       "      <td>1.000000</td>\n",
       "      <td>2.000000</td>\n",
       "      <td>202704.000000</td>\n",
       "    </tr>\n",
       "    <tr>\n",
       "      <th>max</th>\n",
       "      <td>2.140091e+07</td>\n",
       "      <td>53.000000</td>\n",
       "      <td>37.000000</td>\n",
       "      <td>7.000000</td>\n",
       "      <td>24.000000</td>\n",
       "      <td>32.000000</td>\n",
       "      <td>24.900000</td>\n",
       "      <td>43.500000</td>\n",
       "      <td>3.000000</td>\n",
       "      <td>530027.000000</td>\n",
       "      <td>53.200000</td>\n",
       "      <td>1.000000</td>\n",
       "      <td>3.000000</td>\n",
       "      <td>204060.000000</td>\n",
       "    </tr>\n",
       "  </tbody>\n",
       "</table>\n",
       "</div>"
      ],
      "text/plain": [
       "            GAME_ID   FINAL_MARGIN    SHOT_NUMBER         PERIOD  \\\n",
       "count  1.225020e+05  122502.000000  122502.000000  122502.000000   \n",
       "mean   2.140045e+07       0.252396       6.476164       2.471454   \n",
       "std    2.578228e+02      13.311418       4.681245       1.137898   \n",
       "min    2.140000e+07     -53.000000       1.000000       1.000000   \n",
       "25%    2.140023e+07      -8.000000       3.000000       1.000000   \n",
       "50%    2.140045e+07       1.000000       5.000000       2.000000   \n",
       "75%    2.140067e+07       9.000000       9.000000       3.000000   \n",
       "max    2.140091e+07      53.000000      37.000000       7.000000   \n",
       "\n",
       "          SHOT_CLOCK       DRIBBLES     TOUCH_TIME      SHOT_DIST  \\\n",
       "count  122502.000000  122502.000000  122502.000000  122502.000000   \n",
       "mean       12.453344       1.989233       2.748202      13.443758   \n",
       "std         5.763265       3.411188       2.957237       8.777113   \n",
       "min         0.000000       0.000000    -100.500000       0.000000   \n",
       "25%         8.200000       0.000000       0.900000       4.700000   \n",
       "50%        12.300000       1.000000       1.600000      13.400000   \n",
       "75%        16.675000       2.000000       3.700000      22.400000   \n",
       "max        24.000000      32.000000      24.900000      43.500000   \n",
       "\n",
       "            PTS_TYPE  CLOSEST_DEFENDER_PLAYER_ID  CLOSE_DEF_DIST  \\\n",
       "count  122502.000000               122502.000000   122502.000000   \n",
       "mean        2.258363               159120.427977        4.121706   \n",
       "std         0.437736                78689.677900        2.751587   \n",
       "min         2.000000                  708.000000        0.000000   \n",
       "25%         2.000000               200745.000000        2.300000   \n",
       "50%         2.000000               201949.000000        3.700000   \n",
       "75%         3.000000               203079.000000        5.300000   \n",
       "max         3.000000               530027.000000       53.200000   \n",
       "\n",
       "                 FGM            PTS      player_id  \n",
       "count  122502.000000  122502.000000  122502.000000  \n",
       "mean        0.456156       1.005469  157334.912965  \n",
       "std         0.498076       1.131129   79304.953702  \n",
       "min         0.000000       0.000000     708.000000  \n",
       "25%         0.000000       0.000000  101162.000000  \n",
       "50%         0.000000       0.000000  201939.000000  \n",
       "75%         1.000000       2.000000  202704.000000  \n",
       "max         1.000000       3.000000  204060.000000  "
      ]
     },
     "execution_count": 11,
     "metadata": {},
     "output_type": "execute_result"
    }
   ],
   "source": [
    "dataset.describe()"
   ]
  },
  {
   "cell_type": "markdown",
   "id": "6eaaacd3",
   "metadata": {},
   "source": [
    "Dobar način detekcije stršećih vrijednosti su vizualizacije. Prikazat ćemo značajke s numeričkim vrijednostima pomoću box plot-a. Donje i gornje horizontalne linije na grafu nazivaju se \"whisker\". Vrijednosti koje se nalaze iznad gornjeg whiskera ili ispod donjeg whiskera smatraju se stršećim vrijednostima."
   ]
  },
  {
   "cell_type": "code",
   "execution_count": 12,
   "id": "0c3ddfe7",
   "metadata": {},
   "outputs": [
    {
     "data": {
      "image/png": "[encoded data removed]",
      "text/plain": [
       "<Figure size 432x288 with 1 Axes>"
      ]
     },
     "metadata": {
      "needs_background": "light"
     },
     "output_type": "display_data"
    }
   ],
   "source": [
    "# FINAL_MARGIN: za koliko bodova je pobijedio ili izgubio tim igrača \n",
    "plt.boxplot(dataset.FINAL_MARGIN)\n",
    "plt.show()"
   ]
  },
  {
   "cell_type": "code",
   "execution_count": 13,
   "id": "3f66fc57",
   "metadata": {},
   "outputs": [
    {
     "data": {
      "image/png": "[encoded data removed]",
      "text/plain": [
       "<Figure size 432x288 with 1 Axes>"
      ]
     },
     "metadata": {
      "needs_background": "light"
     },
     "output_type": "display_data"
    }
   ],
   "source": [
    "# SHOT_CLOCK: vrijeme pucanja u koš (unutar 24 sekunde napada)\n",
    "plt.boxplot(dataset.SHOT_CLOCK)\n",
    "plt.show()"
   ]
  },
  {
   "cell_type": "code",
   "execution_count": 14,
   "id": "0141af41",
   "metadata": {},
   "outputs": [
    {
     "data": {
      "image/png": "[encoded data removed]",
      "text/plain": [
       "<Figure size 432x288 with 1 Axes>"
      ]
     },
     "metadata": {
      "needs_background": "light"
     },
     "output_type": "display_data"
    }
   ],
   "source": [
    "# DRIBBLES: broj driblanja prije pucanja u koš\n",
    "plt.boxplot(dataset.DRIBBLES)\n",
    "plt.show()"
   ]
  },
  {
   "cell_type": "code",
   "execution_count": 15,
   "id": "95e508ea",
   "metadata": {},
   "outputs": [
    {
     "data": {
      "image/png": "[encoded data removed]",
      "text/plain": [
       "<Figure size 432x288 with 1 Axes>"
      ]
     },
     "metadata": {
      "needs_background": "light"
     },
     "output_type": "display_data"
    }
   ],
   "source": [
    "# TOUCH_TIME: vrijeme držanja lopte prije pucanja u koš\n",
    "plt.boxplot(dataset.TOUCH_TIME)\n",
    "plt.show()"
   ]
  },
  {
   "cell_type": "code",
   "execution_count": 16,
   "id": "0db2b750",
   "metadata": {},
   "outputs": [
    {
     "data": {
      "image/png": "[encoded data removed]",
      "text/plain": [
       "<Figure size 432x288 with 1 Axes>"
      ]
     },
     "metadata": {
      "needs_background": "light"
     },
     "output_type": "display_data"
    }
   ],
   "source": [
    "# SHOT_DIST: udaljenost s koje se igrač pucao u koš\n",
    "plt.boxplot(dataset.SHOT_DIST)\n",
    "plt.show()"
   ]
  },
  {
   "cell_type": "code",
   "execution_count": 17,
   "id": "1826f6cb",
   "metadata": {},
   "outputs": [
    {
     "data": {
      "image/png": "[encoded data removed]",
      "text/plain": [
       "<Figure size 432x288 with 1 Axes>"
      ]
     },
     "metadata": {
      "needs_background": "light"
     },
     "output_type": "display_data"
    }
   ],
   "source": [
    "# CLOSE_DEF_DIST: udaljenost najbližeg igrača protivničkog tima\n",
    "plt.boxplot(dataset.CLOSE_DEF_DIST)\n",
    "plt.show()"
   ]
  },
  {
   "cell_type": "markdown",
   "id": "d2f30b1f",
   "metadata": {},
   "source": [
    "Za sada nećemo ništa poduzimati u vezi stršećih vrijednosti zato što ih autor rada uopće ne spominje."
   ]
  },
  {
   "cell_type": "markdown",
   "id": "5b385a5c",
   "metadata": {},
   "source": [
    "## 2.5 Vizualizacija podataka\n",
    "\n",
    "Kategoričke podatke ćemo prikazati pomoću pie chart-a."
   ]
  },
  {
   "cell_type": "markdown",
   "id": "fbaa0abc",
   "metadata": {},
   "source": [
    "Podjednak je broj utakmica u kojima igrač koji je pucao u koš igra home ili away:"
   ]
  },
  {
   "cell_type": "code",
   "execution_count": 18,
   "id": "e876982b",
   "metadata": {},
   "outputs": [
    {
     "data": {
      "image/png": "[encoded data removed]",
      "text/plain": [
       "<Figure size 432x288 with 1 Axes>"
      ]
     },
     "metadata": {},
     "output_type": "display_data"
    }
   ],
   "source": [
    "count_per_location = dataset.groupby('LOCATION').count().loc[:,'GAME_ID'].values\n",
    "location_name = dataset.groupby('LOCATION').count().index.values\n",
    "\n",
    "location_full_name = []\n",
    "for one in location_name:\n",
    "    if one == 'A':\n",
    "        location_full_name.append('away')\n",
    "    else:\n",
    "        location_full_name.append('home')\n",
    "\n",
    "plt.pie(count_per_location, labels=location_full_name, autopct='%.2f')\n",
    "plt.show()"
   ]
  },
  {
   "cell_type": "markdown",
   "id": "da055384",
   "metadata": {},
   "source": [
    "Podjednak je broj utakmica u kojima je tim igrača koji je pucao u koš pobijedio ili izgubio:"
   ]
  },
  {
   "cell_type": "code",
   "execution_count": 19,
   "id": "afb420f8",
   "metadata": {},
   "outputs": [
    {
     "data": {
      "image/png": "[encoded data removed]",
      "text/plain": [
       "<Figure size 432x288 with 1 Axes>"
      ]
     },
     "metadata": {},
     "output_type": "display_data"
    }
   ],
   "source": [
    "count_per_win = dataset.groupby('W').count().loc[:,'GAME_ID'].values\n",
    "win_name = dataset.groupby('W').count().index.values\n",
    "\n",
    "win_full_name = []\n",
    "for one in win_name:\n",
    "    if one == 'L':\n",
    "        win_full_name.append('loss')\n",
    "    else:\n",
    "        win_full_name.append('win')\n",
    "\n",
    "plt.pie(count_per_win, labels=win_full_name, autopct='%.2f')\n",
    "plt.show()"
   ]
  },
  {
   "cell_type": "markdown",
   "id": "ffa7b1e4",
   "metadata": {},
   "source": [
    "Značajke SHOT_RESULT i FGM zapravo predstavljaju iste podatke koji su označeni na drugačiji način. Veći je broj pogodaka koji su neuspješni:"
   ]
  },
  {
   "cell_type": "code",
   "execution_count": 20,
   "id": "f21c275e",
   "metadata": {},
   "outputs": [
    {
     "data": {
      "image/png": "[encoded data removed]",
      "text/plain": [
       "<Figure size 432x288 with 1 Axes>"
      ]
     },
     "metadata": {},
     "output_type": "display_data"
    }
   ],
   "source": [
    "count_per_result = dataset.groupby('SHOT_RESULT').count().loc[:,'GAME_ID'].values\n",
    "result_name = dataset.groupby('SHOT_RESULT').count().index.values\n",
    "\n",
    "plt.pie(count_per_result, labels=result_name, autopct='%.2f')\n",
    "plt.show()"
   ]
  },
  {
   "cell_type": "code",
   "execution_count": 21,
   "id": "e2970343",
   "metadata": {},
   "outputs": [
    {
     "data": {
      "image/png": "[encoded data removed]",
      "text/plain": [
       "<Figure size 432x288 with 1 Axes>"
      ]
     },
     "metadata": {},
     "output_type": "display_data"
    }
   ],
   "source": [
    "count_per_goal = dataset.groupby('FGM').count().loc[:,'GAME_ID'].values\n",
    "goal_name = dataset.groupby('FGM').count().index.values\n",
    "\n",
    "goal_full_name = []\n",
    "for one in goal_name:\n",
    "    if one == 0:\n",
    "        goal_full_name.append('missed')\n",
    "    else:\n",
    "        goal_full_name.append('made')\n",
    "\n",
    "plt.pie(count_per_goal, labels=goal_full_name, autopct='%.2f')\n",
    "plt.show()"
   ]
  },
  {
   "cell_type": "markdown",
   "id": "4fa6f7e9",
   "metadata": {},
   "source": [
    "Većina podataka je zabilježena je za četvrtine utakmice, a manje od 1% podataka se odnosi na produžetke:"
   ]
  },
  {
   "cell_type": "code",
   "execution_count": 22,
   "id": "798ce85d",
   "metadata": {},
   "outputs": [
    {
     "data": {
      "image/png": "[encoded data removed]",
      "text/plain": [
       "<Figure size 432x288 with 1 Axes>"
      ]
     },
     "metadata": {},
     "output_type": "display_data"
    }
   ],
   "source": [
    "count_per_period = dataset.groupby('PERIOD').count().loc[:,'GAME_ID'].values\n",
    "period_name = dataset.groupby('PERIOD').count().index.values\n",
    "\n",
    "plt.pie(count_per_period, labels=period_name, autopct='%.2f')\n",
    "plt.show()"
   ]
  },
  {
   "cell_type": "markdown",
   "id": "559be5b2",
   "metadata": {},
   "source": [
    "Većina zabilježenih pogodaka su dvice:"
   ]
  },
  {
   "cell_type": "code",
   "execution_count": 23,
   "id": "284179cc",
   "metadata": {},
   "outputs": [
    {
     "data": {
      "image/png": "[encoded data removed]",
      "text/plain": [
       "<Figure size 432x288 with 1 Axes>"
      ]
     },
     "metadata": {},
     "output_type": "display_data"
    }
   ],
   "source": [
    "count_per_points_type = dataset.groupby('PTS_TYPE').count().loc[:,'GAME_ID'].values\n",
    "points_type_name = dataset.groupby('PTS_TYPE').count().index.values\n",
    "\n",
    "plt.pie(count_per_points_type, labels=points_type_name, autopct='%.2f')\n",
    "plt.show()"
   ]
  },
  {
   "cell_type": "markdown",
   "id": "54f6275a",
   "metadata": {},
   "source": [
    "Na prethodnim grafovima prikazano je kako je 54.38% pogodaka bilo neuspješno. To odogovara pogodcima kojima je dodijeljeno nula bodova:"
   ]
  },
  {
   "cell_type": "code",
   "execution_count": 24,
   "id": "b1760014",
   "metadata": {},
   "outputs": [
    {
     "data": {
      "image/png": "[encoded data removed]",
      "text/plain": [
       "<Figure size 432x288 with 1 Axes>"
      ]
     },
     "metadata": {},
     "output_type": "display_data"
    }
   ],
   "source": [
    "count_per_points = dataset.groupby('PTS').count().loc[:,'GAME_ID'].values\n",
    "points_name = dataset.groupby('PTS').count().index.values\n",
    "\n",
    "plt.pie(count_per_points, labels=points_name, autopct='%.2f')\n",
    "plt.show()"
   ]
  },
  {
   "cell_type": "markdown",
   "id": "3cfb6db0",
   "metadata": {},
   "source": [
    "# 3. Priprema dataset-a "
   ]
  },
  {
   "cell_type": "markdown",
   "id": "227bc3d1",
   "metadata": {},
   "source": [
    "Autor članka navodi kako je za algoritme koristio kombinacije sljedećih značajki: LOCATION, W, FINAL_MARGIN, SHOT_NUMBER, PERIOD, GAME_CLOCK, SHOT_CLOCK, DRIBBLES, TOUCH_TIME, SHOT_DIST, PTS_TYPE, CLOSEST_DEFENDER, CLOSEST_DEFENDER_PLAYER_ID, CLOSE_DEF_DIST, FGM, PTS, player_name, player_id. <br /> \n",
    "\n",
    "Dakle možemo odmah iz dataset-a izbaciti značajke GAME_ID i MATCHUP."
   ]
  },
  {
   "cell_type": "code",
   "execution_count": 25,
   "id": "3860a537",
   "metadata": {},
   "outputs": [],
   "source": [
    "dataset.drop(('GAME_ID'), axis=1, inplace=True)\n",
    "dataset.drop(('MATCHUP'), axis=1, inplace=True)"
   ]
  },
  {
   "cell_type": "markdown",
   "id": "3837296d",
   "metadata": {},
   "source": [
    "<br />\n",
    "Značajka TOUCH_TIME ne bi smjela biti negativna pa ćemo pretpostaviti da su redovi dataset-a s negativnom vrijednosti te značajke pogrešno uneseni. Zbog toga ćemo ih ukloniti iz dataset-a."
   ]
  },
  {
   "cell_type": "code",
   "execution_count": 26,
   "id": "902d97c1",
   "metadata": {},
   "outputs": [],
   "source": [
    "indexNames = dataset[dataset['TOUCH_TIME'] < 0].index\n",
    "dataset.drop(indexNames , inplace=True)"
   ]
  },
  {
   "cell_type": "markdown",
   "id": "f9d4216b",
   "metadata": {},
   "source": [
    "Nakon izbacivanja negativnih vrijednosti, minimalna vrijednost značajke TOUCH_TIME je 0:"
   ]
  },
  {
   "cell_type": "code",
   "execution_count": 27,
   "id": "360f88a0",
   "metadata": {},
   "outputs": [
    {
     "data": {
      "text/plain": [
       "0.0"
      ]
     },
     "execution_count": 27,
     "metadata": {},
     "output_type": "execute_result"
    }
   ],
   "source": [
    "dataset['TOUCH_TIME'].describe().min()"
   ]
  },
  {
   "cell_type": "markdown",
   "id": "761dd037",
   "metadata": {},
   "source": [
    "<br />\n",
    "Značajke FGM (field goals made) i PTS (points made) su savršeni prediktori uspješnosti pogotka. Nema smisla raditi predikciju pogotka na temelju informacije o uspješnosti pogotka i broju ostvarenih bodova. Zbog toga ćemo ih izbaciti iz dataset-a:"
   ]
  },
  {
   "cell_type": "code",
   "execution_count": 28,
   "id": "c90b0b7f",
   "metadata": {},
   "outputs": [],
   "source": [
    "dataset.drop(('FGM'), axis=1, inplace=True)\n",
    "dataset.drop(('PTS'), axis=1, inplace=True)"
   ]
  },
  {
   "cell_type": "code",
   "execution_count": 29,
   "id": "778cfd4b",
   "metadata": {},
   "outputs": [
    {
     "data": {
      "text/plain": [
       "(122203, 17)"
      ]
     },
     "execution_count": 29,
     "metadata": {},
     "output_type": "execute_result"
    }
   ],
   "source": [
    "dataset.shape"
   ]
  },
  {
   "cell_type": "markdown",
   "id": "e214538f",
   "metadata": {},
   "source": [
    "<br />\n",
    "Značajka GAME_CLOCK je tipa time string. Potrebno ju je pretvoriti u sekunde:"
   ]
  },
  {
   "cell_type": "code",
   "execution_count": 30,
   "id": "2a6c9f7f",
   "metadata": {},
   "outputs": [],
   "source": [
    "dataset['GAME_CLOCK'] = dataset['GAME_CLOCK'].apply(lambda x: float(x.split(':')[0])*60 + float(x.split(':')[1]))"
   ]
  },
  {
   "cell_type": "code",
   "execution_count": 31,
   "id": "ae23c45b",
   "metadata": {},
   "outputs": [
    {
     "name": "stdout",
     "output_type": "stream",
     "text": [
      "0          69.0\n",
      "1          14.0\n",
      "3         707.0\n",
      "4         634.0\n",
      "5         495.0\n",
      "          ...  \n",
      "128063    305.0\n",
      "128064    112.0\n",
      "128065    688.0\n",
      "128066    670.0\n",
      "128067    157.0\n",
      "Name: GAME_CLOCK, Length: 122203, dtype: float64\n"
     ]
    }
   ],
   "source": [
    "print(dataset['GAME_CLOCK'])"
   ]
  },
  {
   "cell_type": "markdown",
   "id": "bbefcc8f",
   "metadata": {},
   "source": [
    "<br />\n",
    "Kategoričke značajke LOCATION i W imaju 2 kategorije. Kodirat ćemo te dvije pomoću brojevnih vrijednosti. Značajka LOCATION umjesto vrijednosti H imat će vrijednost 1, a umjesto vrijednosti A imat će vrijednost 0. Značajka W umjesto vrijednosti W imat će vrijednost 1, a umjesto vrijednosti L imat će vrijednost 0."
   ]
  },
  {
   "cell_type": "code",
   "execution_count": 32,
   "id": "9a5f371c",
   "metadata": {},
   "outputs": [],
   "source": [
    "dataset['LOCATION'] = dataset['LOCATION'].apply(lambda x: 1 if x == 'H' else 0)\n",
    "dataset['W'] = dataset['W'].apply(lambda x: 1 if x == 'W' else 0)"
   ]
  },
  {
   "cell_type": "markdown",
   "id": "f5841623",
   "metadata": {},
   "source": [
    "<br />\n",
    "Kategoričke značajke koje su označene znakovnim vrijednostima potrebno je označiti brojevnim vrijednostima. To uključuje značajke CLOSEST_DEFENDER i player_name."
   ]
  },
  {
   "cell_type": "code",
   "execution_count": 33,
   "id": "720c2bc7",
   "metadata": {},
   "outputs": [],
   "source": [
    "dataset['CLOSEST_DEFENDER'] = dataset['CLOSEST_DEFENDER'].astype('category')\n",
    "dataset['player_name'] = dataset['player_name'].astype('category')\n",
    "\n",
    "cat_columns = dataset.select_dtypes(['category']).columns\n",
    "\n",
    "dataset[cat_columns] = dataset[cat_columns].apply(lambda x: x.cat.codes)"
   ]
  },
  {
   "cell_type": "markdown",
   "id": "cbc1edc7",
   "metadata": {},
   "source": [
    "## 3.1 Priprema dataset-a za logističku regresiju, SVM i neuralne mreže"
   ]
  },
  {
   "cell_type": "markdown",
   "id": "3ba318d8",
   "metadata": {},
   "source": [
    "Maknut ćemo kategoričke značajke koje imaju više od dvije kategorije. To uključuje značajke SHOT_NUMBER, CLOSEST_DEFENDER, CLOSEST_DEFENDER_PLAYER_ID, player_name i player_id. Kada bi kategorije navedenih značajki zamijenili s brojevnim vrijednostima, one ne bi sadržavale inicijalno značenje pa bi 'zbunile' model. "
   ]
  },
  {
   "cell_type": "code",
   "execution_count": 34,
   "id": "72309986",
   "metadata": {},
   "outputs": [],
   "source": [
    "dataset_lr_svm_nm = dataset.copy()\n",
    "\n",
    "drop_list = ['SHOT_NUMBER', 'CLOSEST_DEFENDER', 'CLOSEST_DEFENDER_PLAYER_ID', 'player_name', 'player_id']\n",
    "\n",
    "for one in drop_list:\n",
    "    dataset_lr_svm_nm.drop((one), axis=1, inplace=True)"
   ]
  },
  {
   "cell_type": "code",
   "execution_count": 35,
   "id": "10dc0a57",
   "metadata": {},
   "outputs": [
    {
     "data": {
      "text/plain": [
       "(122203, 12)"
      ]
     },
     "execution_count": 35,
     "metadata": {},
     "output_type": "execute_result"
    }
   ],
   "source": [
    "dataset_lr_svm_nm.shape"
   ]
  },
  {
   "cell_type": "markdown",
   "id": "febc6a0d",
   "metadata": {},
   "source": [
    "<br />\n",
    "Također ćemo ukloniti kategoričku značajku PERIOD i značajku GAME_CLOCK, a umjesto nje ćemo dodati novu značajku TOTAL_GAME_TIME koja će kombinirati te dvije značajke zajedno."
   ]
  },
  {
   "cell_type": "code",
   "execution_count": 36,
   "id": "a92e1dcb",
   "metadata": {},
   "outputs": [],
   "source": [
    "dataset_lr_svm_nm['TOTAL_GAME_TIME'] = dataset_lr_svm_nm['PERIOD'].apply(lambda x: (float(x)-1)*12*60 if x < 5 else 4*12*60 + (float(x) - 5) * 5 * 60) + dataset_lr_svm_nm['GAME_CLOCK']\n",
    "\n",
    "dataset_lr_svm_nm.drop(('PERIOD'), axis=1, inplace=True)\n",
    "dataset_lr_svm_nm.drop(('GAME_CLOCK'), axis=1, inplace=True)"
   ]
  },
  {
   "cell_type": "markdown",
   "id": "0c63f9f3",
   "metadata": {},
   "source": [
    "<br />\n",
    "Potrebno je normalizirati kontinuirane značajke FINAL_MARGIN, TOTAL_GAME_TIME, SHOT_CLOCK, DRIBBLES, TOUCH_TIME, SHOT_DIST, CLOSE_DEF_DIST."
   ]
  },
  {
   "cell_type": "code",
   "execution_count": 37,
   "id": "98f484fa",
   "metadata": {},
   "outputs": [],
   "source": [
    "normalize_list = ['FINAL_MARGIN', 'TOTAL_GAME_TIME', 'SHOT_CLOCK', 'DRIBBLES', 'TOUCH_TIME', 'SHOT_DIST', 'CLOSE_DEF_DIST']\n",
    "\n",
    "for one in normalize_list:\n",
    "    dataset_lr_svm_nm[one] = preprocessing.normalize(np.array([dataset_lr_svm_nm[one]]))[0]"
   ]
  },
  {
   "cell_type": "markdown",
   "id": "108d671f",
   "metadata": {},
   "source": [
    "## 3.2 Priprema dataset-a za naivni Bayesov postupak"
   ]
  },
  {
   "cell_type": "code",
   "execution_count": 38,
   "id": "8bd5f258",
   "metadata": {},
   "outputs": [],
   "source": [
    "dataset_nb = dataset.copy()"
   ]
  },
  {
   "cell_type": "markdown",
   "id": "795efbb3",
   "metadata": {},
   "source": [
    "Potrebno je sažeti kontinuirane značajke FINAL_MARGIN, GAME_CLOCK, SHOT_CLOCK, DRIBBLES, TOUCH_TIME, SHOT_DIST i CLOSE_DEF_DIST u četiri kategorije. μ označava srednju vrijednost značajke, x označava vrijednost značajke, a σ standardnu devijaciju.\n",
    "\n",
    "x < μ - σ <br />\n",
    "μ > x > μ - σ <br />\n",
    "μ < x < μ + σ <br />\n",
    "x > μ + σ <br />"
   ]
  },
  {
   "cell_type": "code",
   "execution_count": 39,
   "id": "2e3352b2",
   "metadata": {},
   "outputs": [],
   "source": [
    "def binning(column):\n",
    "    \n",
    "    if dataset_nb[column].min() < dataset_nb[column].mean() - dataset_nb[column].std():\n",
    "        bins = [dataset_nb[column].min(), dataset_nb[column].mean() - dataset_nb[column].std(), dataset_nb[column].mean(), dataset_nb[column].mean() + dataset_nb[column].std(), dataset_nb[column].max()]\n",
    "        labels = [0, 1, 2, 3]\n",
    "    else:\n",
    "        bins = [dataset_nb[column].mean() - dataset_nb[column].std(), dataset_nb[column].mean(), dataset_nb[column].mean() + dataset_nb[column].std(), dataset_nb[column].max()]\n",
    "        labels = [1, 2, 3]\n",
    "\n",
    "    dataset_nb[column] = pd.cut(dataset_nb[column], bins=bins, labels=labels, include_lowest=True)"
   ]
  },
  {
   "cell_type": "code",
   "execution_count": 40,
   "id": "a1a9a884",
   "metadata": {},
   "outputs": [],
   "source": [
    "binning_list = ['FINAL_MARGIN', 'GAME_CLOCK', 'SHOT_CLOCK', 'DRIBBLES', 'TOUCH_TIME', 'SHOT_DIST', 'CLOSE_DEF_DIST']\n",
    "\n",
    "for one in binning_list:\n",
    "    binning(one)"
   ]
  },
  {
   "cell_type": "markdown",
   "id": "ac40cc16",
   "metadata": {},
   "source": [
    "## 3.3 Priprema dataset-a za boosting"
   ]
  },
  {
   "cell_type": "markdown",
   "id": "cf10a79b",
   "metadata": {},
   "source": [
    "Za konkretnu implementaciju boosting algoritma kojeg ćemo koristiti oznake klasa moraju biti brojevne vrijednosti."
   ]
  },
  {
   "cell_type": "code",
   "execution_count": 41,
   "id": "8b86f91c",
   "metadata": {},
   "outputs": [],
   "source": [
    "dataset_b = dataset.copy()\n",
    "\n",
    "dataset_b['SHOT_RESULT'] = dataset_b['SHOT_RESULT'].apply(lambda x: 1 if x == 'made' else 0)"
   ]
  },
  {
   "cell_type": "markdown",
   "id": "dc379ac8",
   "metadata": {},
   "source": [
    "# 4. Podjela dataset-a na skup za treniranje i skup za testiranje"
   ]
  },
  {
   "cell_type": "markdown",
   "id": "ffbd356c",
   "metadata": {},
   "source": [
    "Dataset je potrebno podijeliti na skup za treniranje i skup za testiranje. Skupu za treniranje sastojat će se od 95% podataka iz dataset-a, a skup za testiranje od 5% podataka. Odabrani omjer koristi se kako bi algoritmi mogli koristiti što više podataka za treniranje."
   ]
  },
  {
   "cell_type": "code",
   "execution_count": 42,
   "id": "a0189e83",
   "metadata": {},
   "outputs": [],
   "source": [
    "dataset_train, dataset_test, result_train, result_test = train_test_split(dataset.drop('SHOT_RESULT', axis=1), dataset['SHOT_RESULT'], test_size=0.05)\n",
    "dataset_lr_svm_nm_train, dataset_lr_svm_nm_test, result_lr_svm_nm_train, result_lr_svm_nm_test = train_test_split(dataset_lr_svm_nm.drop('SHOT_RESULT', axis=1), dataset_lr_svm_nm['SHOT_RESULT'], test_size=0.05)\n",
    "dataset_nb_train, dataset_nb_test, result_nb_train, result_nb_test = train_test_split(dataset_nb.drop('SHOT_RESULT', axis=1), dataset_nb['SHOT_RESULT'], test_size=0.05)\n",
    "dataset_b_train, dataset_b_test, result_b_train, result_b_test = train_test_split(dataset_b.drop('SHOT_RESULT', axis=1), dataset_b['SHOT_RESULT'], test_size=0.05)"
   ]
  },
  {
   "cell_type": "markdown",
   "id": "1ff5b9b4",
   "metadata": {},
   "source": [
    "# 5. Implementacija\n",
    "Za implementaciju svakog algoritma koristit ćemo javno dostupne biblioteke pomoću kojih ćemo kreirati model koji ćemo zatim trenirati. Nakon treniranja napravit ćemo predikcije te izračunati njihovu točnost i matricu pogreške. Točnost se računa kao omjer broja točnih predikcija i broja svih predikcija. Matrica pogreške na pregledan način prikazuje broj ispravno klasificiranih primjera, broj lažno pozitivnih i broj lažno negativnih primjera. "
   ]
  },
  {
   "cell_type": "markdown",
   "id": "982ab15b",
   "metadata": {},
   "source": [
    "## 5.1 Logistička regresija"
   ]
  },
  {
   "cell_type": "markdown",
   "id": "cc41af93",
   "metadata": {},
   "source": [
    "Za implementaciju algoritma logističke regresije koristit ćemo razred SGDClassifier iz modula sklearn.linear_model. Koristit ćemo L2-regularizaciju s faktorom regularizacije 0.0001. Brzinu učenja postavit ćemo na vrijednost 10."
   ]
  },
  {
   "cell_type": "markdown",
   "id": "35c91a54",
   "metadata": {},
   "source": [
    "Koristit ćemo značajke:"
   ]
  },
  {
   "cell_type": "code",
   "execution_count": 43,
   "id": "fb73a360",
   "metadata": {},
   "outputs": [
    {
     "data": {
      "text/plain": [
       "array(['LOCATION', 'W', 'FINAL_MARGIN', 'SHOT_CLOCK', 'DRIBBLES',\n",
       "       'TOUCH_TIME', 'SHOT_DIST', 'PTS_TYPE', 'CLOSE_DEF_DIST',\n",
       "       'TOTAL_GAME_TIME'], dtype=object)"
      ]
     },
     "execution_count": 43,
     "metadata": {},
     "output_type": "execute_result"
    }
   ],
   "source": [
    "dataset_lr_svm_nm_train.columns.values"
   ]
  },
  {
   "cell_type": "code",
   "execution_count": 44,
   "id": "3306839a",
   "metadata": {},
   "outputs": [
    {
     "data": {
      "text/plain": [
       "SGDClassifier(eta0=10, learning_rate='constant', loss='log')"
      ]
     },
     "execution_count": 44,
     "metadata": {},
     "output_type": "execute_result"
    }
   ],
   "source": [
    "log_model = SGDClassifier(loss='log', eta0=10, learning_rate='constant', alpha=0.0001, penalty='l2')\n",
    "\n",
    "log_model.fit(dataset_lr_svm_nm_train, result_lr_svm_nm_train)"
   ]
  },
  {
   "cell_type": "code",
   "execution_count": 45,
   "id": "886af201",
   "metadata": {},
   "outputs": [],
   "source": [
    "predictions_lr_train = log_model.predict(dataset_lr_svm_nm_train)\n",
    "predictions_lr_test = log_model.predict(dataset_lr_svm_nm_test)"
   ]
  },
  {
   "cell_type": "code",
   "execution_count": 46,
   "id": "f139d417",
   "metadata": {},
   "outputs": [],
   "source": [
    "accuracy_lr_train = accuracy_score(result_lr_svm_nm_train, predictions_lr_train)\n",
    "accuracy_lr_test = accuracy_score(result_lr_svm_nm_test, predictions_lr_test)"
   ]
  },
  {
   "cell_type": "code",
   "execution_count": 47,
   "id": "b6ff7c5b",
   "metadata": {},
   "outputs": [],
   "source": [
    "matrix_lr_train = pd.crosstab(result_lr_svm_nm_train, predictions_lr_train, rownames=['STVARNE VRIJEDNOSTI'], colnames=['PREDIKCIJE'])\n",
    "matrix_lr_test = pd.crosstab(result_lr_svm_nm_test, predictions_lr_test, rownames=['STVARNE VRIJEDNOSTI'], colnames=['PREDIKCIJE'])"
   ]
  },
  {
   "cell_type": "markdown",
   "id": "e3b86301",
   "metadata": {},
   "source": [
    "## 5.2 SVM"
   ]
  },
  {
   "cell_type": "markdown",
   "id": "22f3f824",
   "metadata": {},
   "source": [
    "Za implementaciju SVM-a koristit ćemo razred LinearSVC iz modula sklearn.svm."
   ]
  },
  {
   "cell_type": "markdown",
   "id": "ce1dab55",
   "metadata": {},
   "source": [
    "Koristit ćemo značajke:"
   ]
  },
  {
   "cell_type": "code",
   "execution_count": 48,
   "id": "bfeef8db",
   "metadata": {},
   "outputs": [
    {
     "data": {
      "text/plain": [
       "array(['LOCATION', 'W', 'FINAL_MARGIN', 'SHOT_CLOCK', 'DRIBBLES',\n",
       "       'TOUCH_TIME', 'SHOT_DIST', 'PTS_TYPE', 'CLOSE_DEF_DIST',\n",
       "       'TOTAL_GAME_TIME'], dtype=object)"
      ]
     },
     "execution_count": 48,
     "metadata": {},
     "output_type": "execute_result"
    }
   ],
   "source": [
    "dataset_lr_svm_nm_train.columns.values"
   ]
  },
  {
   "cell_type": "code",
   "execution_count": 49,
   "id": "d452ec38",
   "metadata": {},
   "outputs": [
    {
     "data": {
      "text/plain": [
       "LinearSVC()"
      ]
     },
     "execution_count": 49,
     "metadata": {},
     "output_type": "execute_result"
    }
   ],
   "source": [
    "svm_model = LinearSVC()\n",
    "svm_model.fit(dataset_lr_svm_nm_train, result_lr_svm_nm_train)"
   ]
  },
  {
   "cell_type": "code",
   "execution_count": 50,
   "id": "6c955512",
   "metadata": {},
   "outputs": [],
   "source": [
    "predictions_svm_train = svm_model.predict(dataset_lr_svm_nm_train)\n",
    "predictions_svm_test = svm_model.predict(dataset_lr_svm_nm_test)"
   ]
  },
  {
   "cell_type": "code",
   "execution_count": 51,
   "id": "db492118",
   "metadata": {},
   "outputs": [],
   "source": [
    "accuracy_svm_train = accuracy_score(result_lr_svm_nm_train, predictions_svm_train)\n",
    "accuracy_svm_test = accuracy_score(result_lr_svm_nm_test, predictions_svm_test)"
   ]
  },
  {
   "cell_type": "code",
   "execution_count": 52,
   "id": "8b5c6740",
   "metadata": {},
   "outputs": [],
   "source": [
    "matrix_svm_train = pd.crosstab(result_lr_svm_nm_train, predictions_svm_train, rownames=['STVARNE VRIJEDNOSTI'], colnames=['PREDIKCIJE'])\n",
    "matrix_svm_test = pd.crosstab(result_lr_svm_nm_test, predictions_svm_test, rownames=['STVARNE VRIJEDNOSTI'], colnames=['PREDIKCIJE'])"
   ]
  },
  {
   "cell_type": "markdown",
   "id": "b2b60f2e",
   "metadata": {},
   "source": [
    "## 5.3 Neuralne mreže"
   ]
  },
  {
   "cell_type": "markdown",
   "id": "09ea4352",
   "metadata": {},
   "source": [
    "Za implementaciju neuralne mreže koristit ćemo razred MLPClassifier iz modula sklearn.neural_network. Trenirat ćemo dvije mreže s različitom aktivacijskom funkcijom skrivenog sloja. Ostali parametri bit će isti za obje mreže: mreža s jednim skrivenim slojem s 50 neurona, batch size 1000, brzina učenja 5 te se koristi L2-regularizacija s faktorom regularizacije 0.0001."
   ]
  },
  {
   "cell_type": "markdown",
   "id": "fa362127",
   "metadata": {},
   "source": [
    "Koristit ćemo značajke:"
   ]
  },
  {
   "cell_type": "code",
   "execution_count": 53,
   "id": "976124e8",
   "metadata": {},
   "outputs": [
    {
     "data": {
      "text/plain": [
       "array(['LOCATION', 'W', 'FINAL_MARGIN', 'SHOT_CLOCK', 'DRIBBLES',\n",
       "       'TOUCH_TIME', 'SHOT_DIST', 'PTS_TYPE', 'CLOSE_DEF_DIST',\n",
       "       'TOTAL_GAME_TIME'], dtype=object)"
      ]
     },
     "execution_count": 53,
     "metadata": {},
     "output_type": "execute_result"
    }
   ],
   "source": [
    "dataset_lr_svm_nm_train.columns.values"
   ]
  },
  {
   "cell_type": "markdown",
   "id": "9b6b3ef1",
   "metadata": {},
   "source": [
    "Prva neuralna mreža koristi sigmoidalnu aktivacijsku funkciju u skrivenom sloju."
   ]
  },
  {
   "cell_type": "code",
   "execution_count": 54,
   "id": "708b684d",
   "metadata": {},
   "outputs": [
    {
     "data": {
      "text/plain": [
       "MLPClassifier(activation='logistic', batch_size=1000, hidden_layer_sizes=(50,),\n",
       "              learning_rate_init=5)"
      ]
     },
     "execution_count": 54,
     "metadata": {},
     "output_type": "execute_result"
    }
   ],
   "source": [
    "nm_model_1 = MLPClassifier(hidden_layer_sizes=(50,), activation='logistic', batch_size=1000, learning_rate='constant', learning_rate_init=5, alpha=0.0001)\n",
    "nm_model_1.fit(dataset_lr_svm_nm_train, result_lr_svm_nm_train)"
   ]
  },
  {
   "cell_type": "code",
   "execution_count": 55,
   "id": "a3bcf12e",
   "metadata": {},
   "outputs": [],
   "source": [
    "predictions_nm_train_1 = nm_model_1.predict(dataset_lr_svm_nm_train)\n",
    "predictions_nm_test_1 = nm_model_1.predict(dataset_lr_svm_nm_test)"
   ]
  },
  {
   "cell_type": "code",
   "execution_count": 56,
   "id": "29671751",
   "metadata": {},
   "outputs": [],
   "source": [
    "accuracy_nm_train_1 = accuracy_score(result_lr_svm_nm_train, predictions_nm_train_1)\n",
    "accuracy_nm_test_1 = accuracy_score(result_lr_svm_nm_test, predictions_nm_test_1)"
   ]
  },
  {
   "cell_type": "code",
   "execution_count": 57,
   "id": "9a853ce9",
   "metadata": {},
   "outputs": [],
   "source": [
    "matrix_nm_train_1 = pd.crosstab(result_lr_svm_nm_train, predictions_nm_train_1, rownames=['STVARNE VRIJEDNOSTI'], colnames=['PREDIKCIJE'])\n",
    "matrix_nm_test_1 = pd.crosstab(result_lr_svm_nm_test, predictions_nm_test_1, rownames=['STVARNE VRIJEDNOSTI'], colnames=['PREDIKCIJE'])"
   ]
  },
  {
   "cell_type": "markdown",
   "id": "4107b6d2",
   "metadata": {},
   "source": [
    "Druga neuralna mreža koristi ReLU aktivacijsku funkciju u skrivenom sloju."
   ]
  },
  {
   "cell_type": "code",
   "execution_count": 58,
   "id": "c294a9ea",
   "metadata": {},
   "outputs": [
    {
     "data": {
      "text/plain": [
       "MLPClassifier(batch_size=1000, hidden_layer_sizes=(50,), learning_rate_init=5)"
      ]
     },
     "execution_count": 58,
     "metadata": {},
     "output_type": "execute_result"
    }
   ],
   "source": [
    "nm_model_2 = MLPClassifier(hidden_layer_sizes=(50,), activation='relu', batch_size=1000, learning_rate='constant', learning_rate_init=5, alpha=0.0001)\n",
    "nm_model_2.fit(dataset_lr_svm_nm_train, result_lr_svm_nm_train)"
   ]
  },
  {
   "cell_type": "code",
   "execution_count": 59,
   "id": "843467da",
   "metadata": {},
   "outputs": [],
   "source": [
    "predictions_nm_train_2 = nm_model_2.predict(dataset_lr_svm_nm_train)\n",
    "predictions_nm_test_2 = nm_model_2.predict(dataset_lr_svm_nm_test)"
   ]
  },
  {
   "cell_type": "code",
   "execution_count": 60,
   "id": "7634612d",
   "metadata": {},
   "outputs": [],
   "source": [
    "accuracy_nm_train_2 = accuracy_score(result_lr_svm_nm_train, predictions_nm_train_2)\n",
    "accuracy_nm_test_2 = accuracy_score(result_lr_svm_nm_test, predictions_nm_test_2)"
   ]
  },
  {
   "cell_type": "code",
   "execution_count": 61,
   "id": "e113c1b7",
   "metadata": {},
   "outputs": [],
   "source": [
    "matrix_nm_train_2 = pd.crosstab(result_lr_svm_nm_train, predictions_nm_train_2, rownames=['STVARNE VRIJEDNOSTI'], colnames=['PREDIKCIJE'])\n",
    "matrix_nm_test_2 = pd.crosstab(result_lr_svm_nm_test, predictions_nm_test_2, rownames=['STVARNE VRIJEDNOSTI'], colnames=['PREDIKCIJE'])"
   ]
  },
  {
   "cell_type": "markdown",
   "id": "82e24783",
   "metadata": {},
   "source": [
    "## 5.4 Naivni Bayesov postupak"
   ]
  },
  {
   "cell_type": "markdown",
   "id": "eeb4ec46",
   "metadata": {},
   "source": [
    "Za implementaciju naivnog Bayesovog postupka koristit ćemo razred MultinomialNB iz modula sklearn.naive_bayes."
   ]
  },
  {
   "cell_type": "markdown",
   "id": "518a7447",
   "metadata": {},
   "source": [
    "Koristit ćemo značajke:"
   ]
  },
  {
   "cell_type": "code",
   "execution_count": 62,
   "id": "9f329b6b",
   "metadata": {},
   "outputs": [
    {
     "data": {
      "text/plain": [
       "array(['LOCATION', 'W', 'FINAL_MARGIN', 'SHOT_NUMBER', 'PERIOD',\n",
       "       'GAME_CLOCK', 'SHOT_CLOCK', 'DRIBBLES', 'TOUCH_TIME', 'SHOT_DIST',\n",
       "       'PTS_TYPE', 'CLOSEST_DEFENDER', 'CLOSEST_DEFENDER_PLAYER_ID',\n",
       "       'CLOSE_DEF_DIST', 'player_name', 'player_id'], dtype=object)"
      ]
     },
     "execution_count": 62,
     "metadata": {},
     "output_type": "execute_result"
    }
   ],
   "source": [
    "dataset_nb_train.columns.values"
   ]
  },
  {
   "cell_type": "code",
   "execution_count": 63,
   "id": "32bc18e5",
   "metadata": {},
   "outputs": [
    {
     "data": {
      "text/plain": [
       "MultinomialNB()"
      ]
     },
     "execution_count": 63,
     "metadata": {},
     "output_type": "execute_result"
    }
   ],
   "source": [
    "nb_model = MultinomialNB()\n",
    "nb_model.fit(dataset_nb_train, result_nb_train)"
   ]
  },
  {
   "cell_type": "code",
   "execution_count": 64,
   "id": "c7336644",
   "metadata": {},
   "outputs": [],
   "source": [
    "predictions_nb_train = nb_model.predict(dataset_nb_train)\n",
    "predictions_nb_test = nb_model.predict(dataset_nb_test)"
   ]
  },
  {
   "cell_type": "code",
   "execution_count": 65,
   "id": "32fd3944",
   "metadata": {},
   "outputs": [],
   "source": [
    "accuracy_nb_train = accuracy_score(result_nb_train, predictions_nb_train)\n",
    "accuracy_nb_test = accuracy_score(result_nb_test, predictions_nb_test)"
   ]
  },
  {
   "cell_type": "code",
   "execution_count": 66,
   "id": "9efb41e0",
   "metadata": {},
   "outputs": [],
   "source": [
    "matrix_nb_train = pd.crosstab(result_nb_train, predictions_nb_train, rownames=['STVARNE VRIJEDNOSTI'], colnames=['PREDIKCIJE'])\n",
    "matrix_nb_test = pd.crosstab(result_nb_test, predictions_nb_test, rownames=['STVARNE VRIJEDNOSTI'], colnames=['PREDIKCIJE'])"
   ]
  },
  {
   "cell_type": "markdown",
   "id": "6bf7fd12",
   "metadata": {},
   "source": [
    "## 5.5 Slučajne šume"
   ]
  },
  {
   "cell_type": "markdown",
   "id": "b5a18684",
   "metadata": {},
   "source": [
    "Za implementaciju algoritma slučajnih šuma koristit ćemo razred RandomForestClassifier iz modula sklearn.ensemble. Za treniranje će se koristiti 80 stabala i minimalno 50 listova na svakom stablu."
   ]
  },
  {
   "cell_type": "markdown",
   "id": "44d4f23a",
   "metadata": {},
   "source": [
    "Koristit ćemo značajke:"
   ]
  },
  {
   "cell_type": "code",
   "execution_count": 67,
   "id": "d22f5b65",
   "metadata": {},
   "outputs": [
    {
     "data": {
      "text/plain": [
       "array(['LOCATION', 'W', 'FINAL_MARGIN', 'SHOT_NUMBER', 'PERIOD',\n",
       "       'GAME_CLOCK', 'SHOT_CLOCK', 'DRIBBLES', 'TOUCH_TIME', 'SHOT_DIST',\n",
       "       'PTS_TYPE', 'CLOSEST_DEFENDER', 'CLOSEST_DEFENDER_PLAYER_ID',\n",
       "       'CLOSE_DEF_DIST', 'player_name', 'player_id'], dtype=object)"
      ]
     },
     "execution_count": 67,
     "metadata": {},
     "output_type": "execute_result"
    }
   ],
   "source": [
    "dataset_train.columns.values"
   ]
  },
  {
   "cell_type": "code",
   "execution_count": 68,
   "id": "844b154f",
   "metadata": {},
   "outputs": [
    {
     "data": {
      "text/plain": [
       "RandomForestClassifier(min_samples_leaf=50, n_estimators=80)"
      ]
     },
     "execution_count": 68,
     "metadata": {},
     "output_type": "execute_result"
    }
   ],
   "source": [
    "rf_model = RandomForestClassifier(n_estimators=80, min_samples_leaf=50)\n",
    "rf_model.fit(dataset_train, result_train)"
   ]
  },
  {
   "cell_type": "code",
   "execution_count": 69,
   "id": "e9ef916f",
   "metadata": {},
   "outputs": [],
   "source": [
    "predictions_rf_train = rf_model.predict(dataset_train)\n",
    "predictions_rf_test = rf_model.predict(dataset_test)"
   ]
  },
  {
   "cell_type": "code",
   "execution_count": 70,
   "id": "a724e08f",
   "metadata": {},
   "outputs": [],
   "source": [
    "accuracy_rf_train = accuracy_score(result_train, predictions_rf_train)\n",
    "accuracy_rf_test = accuracy_score(result_test, predictions_rf_test)"
   ]
  },
  {
   "cell_type": "code",
   "execution_count": 71,
   "id": "b2991309",
   "metadata": {},
   "outputs": [],
   "source": [
    "matrix_rf_train = pd.crosstab(result_train, predictions_rf_train, rownames=['STVARNE VRIJEDNOSTI'], colnames=['PREDIKCIJE'])\n",
    "matrix_rf_test = pd.crosstab(result_test, predictions_rf_test, rownames=['STVARNE VRIJEDNOSTI'], colnames=['PREDIKCIJE'])"
   ]
  },
  {
   "cell_type": "markdown",
   "id": "346b9c64",
   "metadata": {},
   "source": [
    "## 5.6 Boosting"
   ]
  },
  {
   "cell_type": "markdown",
   "id": "bed0c887",
   "metadata": {},
   "source": [
    "Za implementaciju boostinga koristit ćemo razred XGBClassifier iz modula xgboost. Kao parametre postavljamo: 1 procjenitelj, brzinu učenja 0.0001, maksimalnu dubinu 3 te minimalnu vrijednost čvora djeteta 0.0001."
   ]
  },
  {
   "cell_type": "markdown",
   "id": "e158050b",
   "metadata": {},
   "source": [
    "Koristit ćemo značajke:"
   ]
  },
  {
   "cell_type": "code",
   "execution_count": 72,
   "id": "8f0ca16c",
   "metadata": {},
   "outputs": [
    {
     "data": {
      "text/plain": [
       "array(['LOCATION', 'W', 'FINAL_MARGIN', 'SHOT_NUMBER', 'PERIOD',\n",
       "       'GAME_CLOCK', 'SHOT_CLOCK', 'DRIBBLES', 'TOUCH_TIME', 'SHOT_DIST',\n",
       "       'PTS_TYPE', 'CLOSEST_DEFENDER', 'CLOSEST_DEFENDER_PLAYER_ID',\n",
       "       'CLOSE_DEF_DIST', 'player_name', 'player_id'], dtype=object)"
      ]
     },
     "execution_count": 72,
     "metadata": {},
     "output_type": "execute_result"
    }
   ],
   "source": [
    "dataset_b_train.columns.values"
   ]
  },
  {
   "cell_type": "code",
   "execution_count": 73,
   "id": "05d6d5c2",
   "metadata": {},
   "outputs": [
    {
     "name": "stdout",
     "output_type": "stream",
     "text": [
      "[23:50:24] WARNING: C:/Users/Administrator/workspace/xgboost-win64_release_1.5.1/src/learner.cc:1115: Starting in XGBoost 1.3.0, the default evaluation metric used with the objective 'binary:logistic' was changed from 'error' to 'logloss'. Explicitly set eval_metric if you'd like to restore the old behavior.\n"
     ]
    },
    {
     "data": {
      "text/plain": [
       "XGBClassifier(base_score=0.5, booster='gbtree', colsample_bylevel=1,\n",
       "              colsample_bynode=1, colsample_bytree=1, enable_categorical=False,\n",
       "              gamma=0, gpu_id=-1, importance_type=None,\n",
       "              interaction_constraints='', learning_rate=0.0001,\n",
       "              max_delta_step=0, max_depth=3, min_child_weight=0.0001,\n",
       "              missing=nan, monotone_constraints='()', n_estimators=1, n_jobs=8,\n",
       "              num_parallel_tree=1, predictor='auto', random_state=0,\n",
       "              reg_alpha=0, reg_lambda=1, scale_pos_weight=1, subsample=1,\n",
       "              tree_method='exact', use_label_encoder=False,\n",
       "              validate_parameters=1, verbosity=None)"
      ]
     },
     "execution_count": 73,
     "metadata": {},
     "output_type": "execute_result"
    }
   ],
   "source": [
    "b_model = XGBClassifier(n_estimators=1, max_depth=3, learning_rate=0.0001, min_child_weight=0.0001, use_label_encoder=False)\n",
    "b_model.fit(dataset_b_train, result_b_train)"
   ]
  },
  {
   "cell_type": "code",
   "execution_count": 74,
   "id": "1b9f9a85",
   "metadata": {},
   "outputs": [],
   "source": [
    "predictions_b_train = b_model.predict(dataset_b_train)\n",
    "predictions_b_test = b_model.predict(dataset_b_test)"
   ]
  },
  {
   "cell_type": "code",
   "execution_count": 75,
   "id": "a7ea14bd",
   "metadata": {},
   "outputs": [],
   "source": [
    "accuracy_b_train = accuracy_score(result_b_train, predictions_b_train)\n",
    "accuracy_b_test = accuracy_score(result_b_test, predictions_b_test)"
   ]
  },
  {
   "cell_type": "code",
   "execution_count": 76,
   "id": "579ed30c",
   "metadata": {},
   "outputs": [],
   "source": [
    "matrix_b_train = pd.crosstab(result_b_train, predictions_b_train, rownames=['STVARNE VRIJEDNOSTI'], colnames=['PREDIKCIJE'])\n",
    "matrix_b_test = pd.crosstab(result_b_test, predictions_b_test, rownames=['STVARNE VRIJEDNOSTI'], colnames=['PREDIKCIJE'])"
   ]
  },
  {
   "cell_type": "markdown",
   "id": "704acab2",
   "metadata": {},
   "source": [
    "# 6. Rezultati"
   ]
  },
  {
   "cell_type": "markdown",
   "id": "522c8a00",
   "metadata": {},
   "source": [
    "## 6.1 Točnost"
   ]
  },
  {
   "cell_type": "markdown",
   "id": "bbac473d",
   "metadata": {},
   "source": [
    "Za evaluaciju rezultata koristit ćemo točnost koja se računa tako da se broj točnih predikcija podijeli s ukupnim brojem predikcija. Točnost je izračunata u prethodnim koracima pomoću metode accuracy_score iz modula sklearn.metrics. Opisani način evaluacije rezultata koristit ćemo kako bi mogli usporediti rezultate s rezultatima iz članka."
   ]
  },
  {
   "cell_type": "markdown",
   "id": "df32230d",
   "metadata": {},
   "source": [
    "Autor članka navodi sljedeće rezultate za točnost na skupu za testiranje:\n",
    "- 59% za logističku regresiju\n",
    "- 55% za SVM\n",
    "- 55% za neuralnu mrežu sa sigmoidalnom aktivacijskom funkcijom u skrivenom sloju\n",
    "- 55% za neuralnu mrežu sa ReLU aktivacijskom funkcijom u skrivenom sloju\n",
    "- 54% za naivni Bayesov postupak\n",
    "- 61% za algoritam slučajnih šuma\n",
    "- 68% za boosting"
   ]
  },
  {
   "cell_type": "markdown",
   "id": "0b95def0",
   "metadata": {},
   "source": [
    "Iako je korišten jednak postupak pripreme dataset-a za treniranje, nije dobivena jednaka točnost za svaki od algoritama kao u članku čije smo rezultate trebali replicirati. <br /> Boosting i algoritam slučajnih šuma su se pokazali kao najuspješniji algoritmi s podjednakom točnosti na skupu za testiranje, a u članku se navodi kako je najbolji algoritam boosting s točnosti od 68%."
   ]
  },
  {
   "cell_type": "code",
   "execution_count": 77,
   "id": "106bb11c",
   "metadata": {},
   "outputs": [
    {
     "name": "stdout",
     "output_type": "stream",
     "text": [
      "ALGORITAM                 TOČNOST (učenje)          TOČNOST (testiranje)\n",
      "------------------------------------------------------------------------\n",
      "logistička regresija      0.5097164317954725        0.498772704958272\n",
      "SVM                       0.5895496675050822        0.5835378825069547\n",
      "neuralna mreža 1          0.5433966164765875        0.5455735558828342\n",
      "neuralna mreža 2          0.45660338352341245       0.45442644411716576\n",
      "bayes                     0.5278313751162871        0.5305187367043037\n",
      "slučajne šume             0.6574096406298453        0.6092292587137947\n",
      "boosting                  0.6095768872962822        0.607592865324824\n"
     ]
    }
   ],
   "source": [
    "d = {'logistička regresija': [accuracy_lr_train, accuracy_lr_test],\n",
    "'SVM': [accuracy_svm_train, accuracy_svm_test],\n",
    "'neuralna mreža 1': [accuracy_nm_train_1, accuracy_nm_test_1],\n",
    "'neuralna mreža 2': [accuracy_nm_train_2, accuracy_nm_test_2],\n",
    "'bayes': [accuracy_nb_train, accuracy_nb_test],\n",
    "'slučajne šume': [accuracy_rf_train, accuracy_rf_test],\n",
    "'boosting': [accuracy_b_train, accuracy_b_test]   }\n",
    "\n",
    "print (\"{:<25} {:<25} {:<10}\".format('ALGORITAM','TOČNOST (učenje)','TOČNOST (testiranje)'))\n",
    "print('------------------------------------------------------------------------')\n",
    "\n",
    "for k, v in d.items():\n",
    "    acc_train, acc_test = v\n",
    "    print (\"{:<25} {:<25} {:<10}\".format(k, acc_train, acc_test))"
   ]
  },
  {
   "cell_type": "markdown",
   "id": "afcaec7d",
   "metadata": {},
   "source": [
    "## 6.2 Matrica pogrešaka"
   ]
  },
  {
   "cell_type": "markdown",
   "id": "81188aa2",
   "metadata": {},
   "source": [
    "Za svaki algoritam ćemo prikazati matricu pogrešaka koja je izračunata u prethodnim koracima pomoću metode crosstab iz modula pandas."
   ]
  },
  {
   "cell_type": "markdown",
   "id": "dad754d7",
   "metadata": {},
   "source": [
    "### 6.2.1 Matrica pogreške za logističku regresiju:"
   ]
  },
  {
   "cell_type": "code",
   "execution_count": 78,
   "id": "ad6f2abb",
   "metadata": {},
   "outputs": [
    {
     "data": {
      "image/png": "[encoded data removed]",
      "text/plain": [
       "<Figure size 432x288 with 2 Axes>"
      ]
     },
     "metadata": {
      "needs_background": "light"
     },
     "output_type": "display_data"
    }
   ],
   "source": [
    "sn.heatmap(matrix_lr_test, annot=True, fmt='g')\n",
    "plt.show()"
   ]
  },
  {
   "cell_type": "markdown",
   "id": "d140cff5",
   "metadata": {},
   "source": [
    "### 6.2.2 Matrica pogreške za SVM:"
   ]
  },
  {
   "cell_type": "code",
   "execution_count": 79,
   "id": "70162d8f",
   "metadata": {},
   "outputs": [
    {
     "data": {
      "image/png": "[encoded data removed]",
      "text/plain": [
       "<Figure size 432x288 with 2 Axes>"
      ]
     },
     "metadata": {
      "needs_background": "light"
     },
     "output_type": "display_data"
    }
   ],
   "source": [
    "sn.heatmap(matrix_svm_test, annot=True, fmt='g')\n",
    "plt.show()"
   ]
  },
  {
   "cell_type": "markdown",
   "id": "79e5d3ec",
   "metadata": {},
   "source": [
    "### 6.2.3 Matrica pogreške za neuralnu mrežu koja koristi sigmoidalnu aktivacijsku funkciju u skrivenom sloju:"
   ]
  },
  {
   "cell_type": "code",
   "execution_count": 80,
   "id": "34574831",
   "metadata": {},
   "outputs": [
    {
     "data": {
      "image/png": "[encoded data removed]",
      "text/plain": [
       "<Figure size 432x288 with 2 Axes>"
      ]
     },
     "metadata": {
      "needs_background": "light"
     },
     "output_type": "display_data"
    }
   ],
   "source": [
    "sn.heatmap(matrix_nm_test_1, annot=True, fmt='g')\n",
    "plt.show()"
   ]
  },
  {
   "cell_type": "markdown",
   "id": "128ab53d",
   "metadata": {},
   "source": [
    "### 6.2.4 Matrica pogreške za neuralnu mrežu koja koristi ReLU aktivacijsku funkciju u skrivenom sloju:"
   ]
  },
  {
   "cell_type": "code",
   "execution_count": 81,
   "id": "c7a3fb50",
   "metadata": {},
   "outputs": [
    {
     "data": {
      "image/png": "[encoded data removed]",
      "text/plain": [
       "<Figure size 432x288 with 2 Axes>"
      ]
     },
     "metadata": {
      "needs_background": "light"
     },
     "output_type": "display_data"
    }
   ],
   "source": [
    "sn.heatmap(matrix_nm_test_2, annot=True, fmt='g')\n",
    "plt.show()"
   ]
  },
  {
   "cell_type": "markdown",
   "id": "db44c5d4",
   "metadata": {},
   "source": [
    "### 6.2.5 Matrica pogreške za naivni Bayesov postupak:"
   ]
  },
  {
   "cell_type": "code",
   "execution_count": 82,
   "id": "06dd2859",
   "metadata": {},
   "outputs": [
    {
     "data": {
      "image/png": "[encoded data removed]",
      "text/plain": [
       "<Figure size 432x288 with 2 Axes>"
      ]
     },
     "metadata": {
      "needs_background": "light"
     },
     "output_type": "display_data"
    }
   ],
   "source": [
    "sn.heatmap(matrix_nb_test, annot=True, fmt='g')\n",
    "plt.show()"
   ]
  },
  {
   "cell_type": "markdown",
   "id": "66b3fe37",
   "metadata": {},
   "source": [
    "### 6.2.6 Matrica pogreške za algoritam slučajnih šuma:"
   ]
  },
  {
   "cell_type": "code",
   "execution_count": 83,
   "id": "8b834427",
   "metadata": {},
   "outputs": [
    {
     "data": {
      "image/png": "[encoded data removed]",
      "text/plain": [
       "<Figure size 432x288 with 2 Axes>"
      ]
     },
     "metadata": {
      "needs_background": "light"
     },
     "output_type": "display_data"
    }
   ],
   "source": [
    "sn.heatmap(matrix_rf_test, annot=True, fmt='g')\n",
    "plt.show()"
   ]
  },
  {
   "cell_type": "markdown",
   "id": "ac76bab7",
   "metadata": {},
   "source": [
    "### 6.2.7 Matrica pogreške za boosting algoritam:"
   ]
  },
  {
   "cell_type": "code",
   "execution_count": 84,
   "id": "52059e3a",
   "metadata": {},
   "outputs": [
    {
     "data": {
      "image/png": "[encoded data removed]",
      "text/plain": [
       "<Figure size 432x288 with 2 Axes>"
      ]
     },
     "metadata": {
      "needs_background": "light"
     },
     "output_type": "display_data"
    }
   ],
   "source": [
    "sn.heatmap(matrix_b_test, annot=True, fmt='g')\n",
    "plt.show()"
   ]
  }
 ],
 "metadata": {
  "kernelspec": {
   "display_name": "Python 3 (ipykernel)",
   "language": "python",
   "name": "python3"
  },
  "language_info": {
   "codemirror_mode": {
    "name": "ipython",
    "version": 3
   },
   "file_extension": ".py",
   "mimetype": "text/x-python",
   "name": "python",
   "nbconvert_exporter": "python",
   "pygments_lexer": "ipython3",
   "version": "3.8.0"
  }
 },
 "nbformat": 4,
 "nbformat_minor": 5
}
